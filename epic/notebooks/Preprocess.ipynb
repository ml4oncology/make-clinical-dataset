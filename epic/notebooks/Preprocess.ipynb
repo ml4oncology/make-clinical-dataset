{
 "cells": [
  {
   "cell_type": "code",
   "execution_count": null,
   "id": "0",
   "metadata": {},
   "outputs": [],
   "source": [
    "%%capture\n",
    "%cd ../../\n",
    "%load_ext autoreload\n",
    "%autoreload 2"
   ]
  },
  {
   "cell_type": "code",
   "execution_count": null,
   "id": "1",
   "metadata": {},
   "outputs": [],
   "source": [
    "import pandas as pd\n",
    "import polars as pl\n",
    "\n",
    "from make_clinical_dataset.epic.combine import (\n",
    "    merge_closest_measurements, \n",
    "    combine_chemo_to_main_data, \n",
    "    combine_demographic_to_main_data,\n",
    "    combine_event_to_main_data,\n",
    "    combine_radiation_to_main_data\n",
    ")\n",
    "from make_clinical_dataset.epic.label import get_acu_labels\n",
    "from make_clinical_dataset.epic.preprocess.demographic import get_demographic_data\n",
    "from make_clinical_dataset.shared.constants import INFO_DIR, ROOT_DIR\n",
    "\n",
    "pl.Config.set_tbl_rows(100)"
   ]
  },
  {
   "cell_type": "code",
   "execution_count": null,
   "id": "2",
   "metadata": {},
   "outputs": [],
   "source": [
    "DATE = '2025-03-29'\n",
    "DATA_DIR = f\"{ROOT_DIR}/data/final/data_{DATE}\""
   ]
  },
  {
   "cell_type": "markdown",
   "id": "3",
   "metadata": {},
   "source": [
    "# Combine the features & targets"
   ]
  },
  {
   "cell_type": "code",
   "execution_count": null,
   "id": "4",
   "metadata": {},
   "outputs": [],
   "source": [
    "# load the features and targets\n",
    "chemo = pl.read_parquet(f'{DATA_DIR}/interim/chemo.parquet')\n",
    "rad = pl.read_parquet(f'{DATA_DIR}/interim/radiation.parquet')\n",
    "lab = pl.read_parquet(f'{DATA_DIR}/interim/lab.parquet')\n",
    "sym = pl.read_parquet(f'{DATA_DIR}/interim/symptom.parquet')\n",
    "acu = pl.read_parquet(f'{DATA_DIR}/interim/acute_care_use.parquet')\n",
    "# TODO: EDA - show number of patients with multiple birth dates\n",
    "demog = pl.from_pandas(get_demographic_data())"
   ]
  },
  {
   "cell_type": "markdown",
   "id": "5",
   "metadata": {},
   "source": [
    "## Align on chemo sessions"
   ]
  },
  {
   "cell_type": "code",
   "execution_count": null,
   "id": "6",
   "metadata": {},
   "outputs": [],
   "source": [
    "%%time\n",
    "# select anchor\n",
    "main = (\n",
    "    chemo\n",
    "    .filter(pl.col('drug_type') == \"direct\")\n",
    "    .select('mrn', 'treatment_date').unique()\n",
    "    .rename({'treatment_date': 'assessment_date'})\n",
    "    .sort('mrn', 'assessment_date')\n",
    ")\n",
    "\n",
    "# merge demographics\n",
    "main = combine_demographic_to_main_data(main, demog, main_date_col=\"assessment_date\")\n",
    "\n",
    "# merge chemotherapy treatments\n",
    "main = combine_chemo_to_main_data(main, chemo, main_date_col=\"assessment_date\", time_window=(-28,0))\n",
    "\n",
    "# merge radiation treatments\n",
    "main = combine_radiation_to_main_data(main, rad, main_date_col=\"assessment_date\", time_window=(-28,0))\n",
    "\n",
    "# merge laboratory tests\n",
    "lab = lab.with_columns(pl.col('mrn').cast(pl.Int64)) # TODO: do this in lab preprocessing\n",
    "main = merge_closest_measurements(main, lab, \"assessment_date\", \"obs_date\", include_meas_date=True, time_window=(-5,0))\n",
    "\n",
    "# merge symptom surveys\n",
    "main = merge_closest_measurements(main, sym, \"assessment_date\", \"obs_date\", include_meas_date=True, time_window=(-30,0))\n",
    "\n",
    "# merge acute care use\n",
    "main = combine_event_to_main_data(main, acu, \"assessment_date\", \"ED_visit\", lookback_window=5)\n",
    "\n",
    "# add lables\n",
    "# 1) ED\n",
    "main = get_acu_labels(main, acu, lookahead_window=[30, 60, 90])\n",
    "# 2) Death"
   ]
  },
  {
   "cell_type": "code",
   "execution_count": null,
   "id": "7",
   "metadata": {},
   "outputs": [],
   "source": [
    "%%time\n",
    "from make_clinical_dataset.epr.label import get_CTCAE_labels, get_symptom_labels\n",
    "# add targets\n",
    "# 3) CTCAE\n",
    "main = main.to_pandas()\n",
    "lab = lab.to_pandas()\n",
    "main = get_CTCAE_labels(main, lab)\n",
    "# 4) symptoms\n",
    "# sym = sym.to_pandas()\n",
    "# sym['survey_date'] = sym['obs_date']\n",
    "# main = get_symptom_labels(main, sym)\n",
    "\n",
    "main = pl.from_pandas(main)"
   ]
  },
  {
   "cell_type": "code",
   "execution_count": null,
   "id": "8",
   "metadata": {},
   "outputs": [],
   "source": [
    "date_cols = ['mrn'] + [col for col in main.columns if col.endswith('date')]\n",
    "str_cols = ['cancer_type', 'primary_site_desc', 'intent', 'drug_name', 'postal_code']\n",
    "feat_cols = ['mrn', 'assessment_date'] + str_cols + [col for col in main.columns if col not in date_cols+str_cols]\n",
    "main_dates = main.select(date_cols)\n",
    "main_dates.write_parquet(f'{DATA_DIR}/processed/treatment_centered_dates.parquet')\n",
    "main_data = main.select(feat_cols)\n",
    "main_data.write_parquet(f'{DATA_DIR}/processed/treatment_centered_data.parquet')"
   ]
  }
 ],
 "metadata": {
  "kernelspec": {
   "display_name": "kevenv",
   "language": "python",
   "name": "kevenv"
  },
  "language_info": {
   "codemirror_mode": {
    "name": "ipython",
    "version": 3
   },
   "file_extension": ".py",
   "mimetype": "text/x-python",
   "name": "python",
   "nbconvert_exporter": "python",
   "pygments_lexer": "ipython3",
   "version": "3.11.9"
  }
 },
 "nbformat": 4,
 "nbformat_minor": 5
}
