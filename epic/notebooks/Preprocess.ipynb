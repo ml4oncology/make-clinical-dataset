{
 "cells": [
  {
   "cell_type": "code",
   "execution_count": null,
   "id": "0",
   "metadata": {},
   "outputs": [],
   "source": [
    "%%capture\n",
    "%cd ../../\n",
    "%load_ext autoreload\n",
    "%autoreload 2"
   ]
  },
  {
   "cell_type": "code",
   "execution_count": null,
   "id": "1",
   "metadata": {},
   "outputs": [],
   "source": [
    "import pandas as pd\n",
    "import polars as pl\n",
    "\n",
    "from make_clinical_dataset.epic.combine import (\n",
    "    merge_closest_measurements, \n",
    "    combine_chemo_to_main_data, \n",
    "    combine_demographic_to_main_data,\n",
    "    combine_event_to_main_data,\n",
    "    combine_radiation_to_main_data\n",
    ")\n",
    "from make_clinical_dataset.epic.label import get_acu_labels, get_CTCAE_labels, get_symptom_labels\n",
    "from make_clinical_dataset.epic.preprocess.demographic import get_demographic_data\n",
    "from make_clinical_dataset.shared.constants import INFO_DIR, ROOT_DIR, SYMP_COLS\n",
    "\n",
    "pl.Config.set_tbl_rows(205)\n",
    "pd.set_option('display.max_column', 100)"
   ]
  },
  {
   "cell_type": "code",
   "execution_count": null,
   "id": "2",
   "metadata": {},
   "outputs": [],
   "source": [
    "DATE = '2025-03-29'\n",
    "DATA_DIR = f\"{ROOT_DIR}/data/final/data_{DATE}\""
   ]
  },
  {
   "cell_type": "markdown",
   "id": "3",
   "metadata": {},
   "source": [
    "# Combine the features & targets"
   ]
  },
  {
   "cell_type": "code",
   "execution_count": null,
   "id": "4",
   "metadata": {},
   "outputs": [],
   "source": [
    "# load the features and targets\n",
    "chemo = pl.read_parquet(f'{DATA_DIR}/interim/chemo.parquet')\n",
    "rad = pl.read_parquet(f'{DATA_DIR}/interim/radiation.parquet')\n",
    "lab = pl.read_parquet(f'{DATA_DIR}/interim/lab.parquet')\n",
    "lab = lab.with_columns(pl.col('mrn').cast(pl.Int64)) # TODO: do this in lab preprocessing\n",
    "sym = pl.read_parquet(f'{DATA_DIR}/interim/symptom.parquet')\n",
    "acu = pl.read_parquet(f'{DATA_DIR}/interim/acute_care_use.parquet')\n",
    "# TODO: EDA - show number of patients with multiple birth dates\n",
    "demog = pl.from_pandas(get_demographic_data())"
   ]
  },
  {
   "cell_type": "markdown",
   "id": "5",
   "metadata": {},
   "source": [
    "## Align on chemo sessions"
   ]
  },
  {
   "cell_type": "code",
   "execution_count": null,
   "id": "6",
   "metadata": {},
   "outputs": [],
   "source": [
    "%%time\n",
    "# select anchor\n",
    "main_date_col = 'assessment_date'\n",
    "main = (\n",
    "    chemo\n",
    "    .filter(pl.col('drug_type') == \"direct\")\n",
    "    .select('mrn', 'treatment_date').unique()\n",
    "    .rename({'treatment_date': main_date_col})\n",
    "    .sort('mrn', main_date_col)\n",
    ")\n",
    "\n",
    "# merge demographics\n",
    "main = combine_demographic_to_main_data(main, demog, main_date_col)\n",
    "\n",
    "# merge chemotherapy treatments\n",
    "main = combine_chemo_to_main_data(main, chemo, main_date_col, time_window=(-28,0))\n",
    "\n",
    "# merge radiation treatments\n",
    "main = combine_radiation_to_main_data(main, rad, main_date_col, time_window=(-28,0))\n",
    "\n",
    "# merge laboratory tests\n",
    "main = merge_closest_measurements(main, lab, main_date_col, \"obs_date\", include_meas_date=True, time_window=(-5,0))\n",
    "\n",
    "# merge symptom surveys\n",
    "main = merge_closest_measurements(main, sym, main_date_col, \"obs_date\", include_meas_date=True, time_window=(-30,0))\n",
    "\n",
    "# merge acute care use\n",
    "main = combine_event_to_main_data(main, acu, main_date_col, \"ED_visit\", lookback_window=5)\n",
    "\n",
    "# add lables\n",
    "# 1) ED\n",
    "main = get_acu_labels(main, acu, main_date_col, lookahead_window=[30, 60, 90])\n",
    "# 2) CTCAE\n",
    "main = get_CTCAE_labels(main.lazy(), lab.lazy(), main_date_col, lookahead_window=30).collect()\n",
    "# 3) Symptoms\n",
    "main = get_symptom_labels(main, sym, main_date_col)\n",
    "# 4) Death"
   ]
  },
  {
   "cell_type": "code",
   "execution_count": null,
   "id": "7",
   "metadata": {},
   "outputs": [],
   "source": [
    "date_cols = ['mrn'] + [col for col in main.columns if col.endswith('date')]\n",
    "str_cols = ['cancer_type', 'primary_site_desc', 'intent', 'drug_name', 'postal_code']\n",
    "feat_cols = ['mrn', 'assessment_date'] + str_cols + [col for col in main.columns if col not in date_cols+str_cols]\n",
    "main_dates = main.select(date_cols)\n",
    "main_dates.write_parquet(f'{DATA_DIR}/processed/treatment_centered_dates.parquet')\n",
    "main_data = main.select(feat_cols)\n",
    "main_data.write_parquet(f'{DATA_DIR}/processed/treatment_centered_data.parquet')"
   ]
  },
  {
   "cell_type": "markdown",
   "id": "8",
   "metadata": {},
   "source": [
    "## Align on clinic dates"
   ]
  },
  {
   "cell_type": "code",
   "execution_count": null,
   "id": "9",
   "metadata": {},
   "outputs": [],
   "source": [
    "%%time\n",
    "PATH = f'{ROOT_DIR}/data/processed/clinical_notes/data_pull_2025-01-08/merged_processed_cleaned_clinical_notes.parquet.gzip'\n",
    "main = pl.scan_parquet(PATH)\n",
    "main = main.with_columns(pl.col('processed_date').cast(chemo.schema[\"treatment_date\"])) # ensure date types match\n",
    "\n",
    "main_date_col = 'assessment_date'\n",
    "main = (\n",
    "    main\n",
    "    .filter(pl.col('Observations.ProcName').is_in([\"Clinic Note\", \"Clinic Note (Non-dictated)\", \"Consultation Note\"]))\n",
    "    .join(chemo.lazy(), on=\"mrn\", how=\"inner\")\n",
    "    .filter(\n",
    "        # only keep clinic visits that has a treatment scheduled within the next 5 days\n",
    "        (pl.col(\"treatment_date\") > pl.col('processed_date')) &\n",
    "        (pl.col(\"treatment_date\") <= pl.col('processed_date') + pl.duration(days=5))\n",
    "    )\n",
    "    .rename({'processed_date': main_date_col, 'treatment_date': 'next_sched_trt_date'})\n",
    "    .select('mrn', main_date_col, 'next_sched_trt_date')\n",
    "    .unique(subset=['mrn', 'next_sched_trt_date'])\n",
    "    .sort(by=['mrn', main_date_col])\n",
    "    .collect()\n",
    ")"
   ]
  },
  {
   "cell_type": "code",
   "execution_count": null,
   "id": "10",
   "metadata": {},
   "outputs": [],
   "source": [
    "# Extract features\n",
    "main = combine_demographic_to_main_data(main, demog, main_date_col)\n",
    "main = combine_chemo_to_main_data(main, chemo, main_date_col, time_window=(-28,0))\n",
    "main = combine_radiation_to_main_data(main, rad, main_date_col, time_window=(-28,0))\n",
    "main = merge_closest_measurements(main, lab, main_date_col, \"obs_date\", include_meas_date=True, time_window=(-5,0))\n",
    "main = merge_closest_measurements(main, sym, main_date_col, \"obs_date\", include_meas_date=True, time_window=(-30,0))\n",
    "main = combine_event_to_main_data(main, acu, main_date_col, \"ED_visit\", lookback_window=5)\n",
    "\n",
    "# Extract targets\n",
    "main = get_acu_labels(main, acu, main_date_col, lookahead_window=[30, 60, 90])\n",
    "main = get_CTCAE_labels(main.lazy(), lab.lazy(), main_date_col, lookahead_window=30).collect()\n",
    "main = get_symptom_labels(main, sym, main_date_col)"
   ]
  },
  {
   "cell_type": "code",
   "execution_count": null,
   "id": "11",
   "metadata": {},
   "outputs": [],
   "source": [
    "date_cols = ['mrn'] + [col for col in main.columns if col.endswith('date')]\n",
    "str_cols = ['cancer_type', 'primary_site_desc', 'intent', 'drug_name', 'postal_code']\n",
    "feat_cols = ['mrn', 'assessment_date'] + str_cols + [col for col in main.columns if col not in date_cols+str_cols]\n",
    "main_dates = main.select(date_cols)\n",
    "main_dates.write_parquet(f'{DATA_DIR}/processed/clinic_centered_dates.parquet')\n",
    "main_data = main.select(feat_cols)\n",
    "main_data.write_parquet(f'{DATA_DIR}/processed/clinic_centered_data.parquet')"
   ]
  }
 ],
 "metadata": {
  "kernelspec": {
   "display_name": "kevenv",
   "language": "python",
   "name": "kevenv"
  },
  "language_info": {
   "codemirror_mode": {
    "name": "ipython",
    "version": 3
   },
   "file_extension": ".py",
   "mimetype": "text/x-python",
   "name": "python",
   "nbconvert_exporter": "python",
   "pygments_lexer": "ipython3",
   "version": "3.11.9"
  }
 },
 "nbformat": 4,
 "nbformat_minor": 5
}
