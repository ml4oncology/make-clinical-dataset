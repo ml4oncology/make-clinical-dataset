{
 "cells": [
  {
   "cell_type": "markdown",
   "id": "0",
   "metadata": {},
   "source": [
    "To load the entire data, it is recommended to request the following resources on SLURM:\n",
    "\n",
    "`srun -p himem -c 8 --mem 64GB -t 0-08:00:00 --pty bash`"
   ]
  },
  {
   "cell_type": "code",
   "execution_count": null,
   "id": "1",
   "metadata": {},
   "outputs": [],
   "source": [
    "%load_ext autoreload\n",
    "%autoreload 2"
   ]
  },
  {
   "cell_type": "code",
   "execution_count": null,
   "id": "2",
   "metadata": {},
   "outputs": [],
   "source": [
    "import os\n",
    "\n",
    "from pyspark.sql import SparkSession\n",
    "\n",
    "from make_clinical_dataset.constants import ROOT_DIR"
   ]
  },
  {
   "cell_type": "code",
   "execution_count": null,
   "id": "3",
   "metadata": {},
   "outputs": [],
   "source": [
    "date = '2025-01-08'\n",
    "data_dir = f'{ROOT_DIR}/data/raw/data_pull_{date}/observation_parquet'"
   ]
  },
  {
   "cell_type": "code",
   "execution_count": null,
   "id": "4",
   "metadata": {},
   "outputs": [],
   "source": [
    "!du -hs {root_dir}/data/raw/data_pull_{date}/observation_csv\n",
    "!du -hs {root_dir}/data/raw/data_pull_{date}/observation_parquet"
   ]
  },
  {
   "cell_type": "code",
   "execution_count": null,
   "id": "5",
   "metadata": {},
   "outputs": [],
   "source": [
    "# Initialize a Spark session\n",
    "spark = SparkSession.builder.appName(\"EPIC-data\").config(\"spark.driver.memory\", \"50G\").getOrCreate()\n",
    "\n",
    "# Read all Parquet files in the folder\n",
    "# make sure its all parquet.gzip files in this folder (no one created some weird files in there)\n",
    "assert all([fname.endswith('parquet.gzip') for fname in os.listdir(data_dir)])\n",
    "df = spark.read.parquet(data_dir)"
   ]
  },
  {
   "cell_type": "code",
   "execution_count": null,
   "id": "6",
   "metadata": {},
   "outputs": [],
   "source": [
    "# Print schema\n",
    "df.printSchema()"
   ]
  },
  {
   "cell_type": "code",
   "execution_count": null,
   "id": "7",
   "metadata": {},
   "outputs": [],
   "source": [
    "# Total data size\n",
    "print((df.count(), len(df.columns)))"
   ]
  },
  {
   "cell_type": "code",
   "execution_count": null,
   "id": "8",
   "metadata": {},
   "outputs": [],
   "source": [
    "# Total number of unique patients\n",
    "df.select(\"PATIENT_RESEARCH_ID\").distinct().count()"
   ]
  },
  {
   "cell_type": "code",
   "execution_count": null,
   "id": "9",
   "metadata": {},
   "outputs": [],
   "source": [
    "# Total number of unique procedure names\n",
    "df.select('proc_name').distinct().count()"
   ]
  },
  {
   "cell_type": "code",
   "execution_count": null,
   "id": "10",
   "metadata": {},
   "outputs": [],
   "source": [
    "# BONUS: Spark's data partition distribution\n",
    "from pyspark.sql.functions import spark_partition_id\n",
    "df.groupBy(spark_partition_id()).count().orderBy(\"count\", ascending=False).show(n=df.rdd.getNumPartitions())"
   ]
  }
 ],
 "metadata": {
  "kernelspec": {
   "display_name": "kevenv",
   "language": "python",
   "name": "kevenv"
  },
  "language_info": {
   "codemirror_mode": {
    "name": "ipython",
    "version": 3
   },
   "file_extension": ".py",
   "mimetype": "text/x-python",
   "name": "python",
   "nbconvert_exporter": "python",
   "pygments_lexer": "ipython3",
   "version": "3.11.9"
  }
 },
 "nbformat": 4,
 "nbformat_minor": 5
}
