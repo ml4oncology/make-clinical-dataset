{
 "cells": [
  {
   "cell_type": "markdown",
   "id": "0",
   "metadata": {},
   "source": [
    "NOTE: hormonal therapy is mostly oral therapy, hard to determine if patient actually followed the treatment plan or not. We decided not to include hormonal treatments into our dataset. But still worth doing EDA on\n",
    "\n",
    "NOTE: there are many types of therapies (chemo, hormonal, radiation, immuno, targeted). We will utilize only chemo and radiation therapy."
   ]
  },
  {
   "cell_type": "code",
   "execution_count": null,
   "id": "1",
   "metadata": {},
   "outputs": [],
   "source": [
    "%load_ext autoreload\n",
    "%autoreload 2"
   ]
  },
  {
   "cell_type": "code",
   "execution_count": null,
   "id": "2",
   "metadata": {},
   "outputs": [],
   "source": [
    "from glob import glob\n",
    "import pandas as pd\n",
    "import polars as pl\n",
    "import seaborn as sns\n",
    "from matplotlib.ticker import MaxNLocator\n",
    "from make_clinical_dataset.constants import INFO_DIR, ROOT_DIR\n",
    "\n",
    "pd.set_option('display.max_rows', 200)\n",
    "pd.set_option('display.max_columns', 100)\n",
    "pd.set_option('display.max_colwidth', 300)"
   ]
  },
  {
   "cell_type": "code",
   "execution_count": null,
   "id": "3",
   "metadata": {},
   "outputs": [],
   "source": [
    "date = '2025-03-29'\n",
    "# chemo = pl.read_parquet(f'{ROOT_DIR}/data/final/data_{date}/interim/chemo.parquet')\n",
    "chemo = pd.read_parquet(f'{ROOT_DIR}/data/final/data_{date}/interim/chemo.parquet')"
   ]
  },
  {
   "cell_type": "markdown",
   "id": "4",
   "metadata": {
    "jp-MarkdownHeadingCollapsed": true
   },
   "source": [
    "## Years"
   ]
  },
  {
   "cell_type": "code",
   "execution_count": null,
   "id": "5",
   "metadata": {},
   "outputs": [],
   "source": [
    "grouped = chemo.groupby(chemo['treatment_date'].dt.year)\n",
    "pd.DataFrame({\n",
    "    'num_unique_patients': grouped['mrn'].nunique(),\n",
    "    'num_unique_treatments': grouped.apply(\n",
    "        lambda g: g[['mrn', 'treatment_date']].drop_duplicates().shape[0],\n",
    "        include_groups=False\n",
    "    ),\n",
    "    'num_rows': grouped.size()\n",
    "})"
   ]
  },
  {
   "cell_type": "markdown",
   "id": "6",
   "metadata": {},
   "source": [
    "## Missing Doses"
   ]
  },
  {
   "cell_type": "code",
   "execution_count": null,
   "id": "7",
   "metadata": {},
   "outputs": [],
   "source": [
    "# how many doses are missing? \n",
    "# chemo.group_by([\"data_source\", \"drug_type\"]).agg([\n",
    "#     pl.col(\"given_dose\").is_null().sum().alias(\"dose_missing\"),\n",
    "#     pl.col(\"given_dose\").is_not_null().sum().alias(\"dose_present\"),\n",
    "# ])\n",
    "chemo.groupby([\"data_source\", \"drug_type\"]).agg(\n",
    "    dose_missing=(\"given_dose\", lambda x: x.isnull().sum()),\n",
    "    dose_present=(\"given_dose\", lambda x: x.notnull().sum())\n",
    ").reset_index()"
   ]
  },
  {
   "attachments": {},
   "cell_type": "markdown",
   "id": "8",
   "metadata": {},
   "source": [
    "## Intent"
   ]
  },
  {
   "cell_type": "code",
   "execution_count": null,
   "id": "9",
   "metadata": {},
   "outputs": [],
   "source": [
    "\"\"\"\n",
    "Usually, after palliative intent treatment, rest of the treatment remains palliative.\n",
    "\n",
    "Check the number of cases where that is not true.\n",
    "\"\"\"\n",
    "def check_intent_stays_palliative(df):\n",
    "    mask = df['intent'] == 'palliative'\n",
    "    if not mask.any():\n",
    "        return True\n",
    "    idx = mask[mask].index[0]\n",
    "    return all(mask.loc[idx:])\n",
    "\n",
    "mask = chemo.groupby('mrn').apply(check_intent_stays_palliative, include_groups=False)\n",
    "mask.value_counts()"
   ]
  },
  {
   "cell_type": "code",
   "execution_count": null,
   "id": "10",
   "metadata": {},
   "outputs": [],
   "source": [
    "\"\"\"Number of treatments over time\"\"\"\n",
    "chemo['treatment_year'] = chemo['treatment_date'].dt.year\n",
    "counts = chemo.groupby('treatment_year')['intent'].value_counts()\n",
    "counts = pd.DataFrame(counts).rename(columns={'intent': 'count'}).reset_index()\n",
    "counts = counts.pivot(index='treatment_year', columns='intent', values='count')\n",
    "ax = sns.lineplot(data=counts)\n",
    "ax.xaxis.set_major_locator(MaxNLocator(integer=True))"
   ]
  },
  {
   "cell_type": "markdown",
   "id": "11",
   "metadata": {
    "jp-MarkdownHeadingCollapsed": true
   },
   "source": [
    "## First treatment date"
   ]
  },
  {
   "cell_type": "code",
   "execution_count": null,
   "id": "12",
   "metadata": {},
   "outputs": [],
   "source": [
    "\"\"\"\n",
    "Usually, the first treatment date is monotonically increasing (patients do not continue old treatment after starting new treatment)\n",
    "\n",
    "Check the number of cases where that is not true.\n",
    "\"\"\"\n",
    "mask = chemo.groupby('mrn').apply(\n",
    "    lambda g: all(g['first_treatment_date'] == sorted(g['first_treatment_date'])), \n",
    "    include_groups=False\n",
    ")\n",
    "mask.value_counts()"
   ]
  },
  {
   "cell_type": "markdown",
   "id": "13",
   "metadata": {},
   "source": [
    "## Height and Weight"
   ]
  },
  {
   "cell_type": "code",
   "execution_count": null,
   "id": "14",
   "metadata": {},
   "outputs": [],
   "source": [
    "\"\"\"Height/weight distribution of patients undertaking treatment\"\"\" \n",
    "height_and_weight = chemo.groupby('mrn').agg({'height': 'mean', 'weight': 'mean'})\n",
    "sns.displot(data=height_and_weight, x='height', y='weight')"
   ]
  },
  {
   "cell_type": "markdown",
   "id": "15",
   "metadata": {},
   "source": [
    "## Direct Drugs"
   ]
  },
  {
   "cell_type": "code",
   "execution_count": null,
   "id": "16",
   "metadata": {},
   "outputs": [],
   "source": [
    "direct = chemo.query('drug_type == \"direct\"')\n",
    "counts = direct['drug_name'].value_counts()\n",
    "top_drugs = counts.index[:30]"
   ]
  },
  {
   "cell_type": "code",
   "execution_count": null,
   "id": "17",
   "metadata": {},
   "outputs": [],
   "source": [
    "\"\"\"Number of drugs\"\"\"\n",
    "len(counts)"
   ]
  },
  {
   "cell_type": "code",
   "execution_count": null,
   "id": "18",
   "metadata": {},
   "outputs": [],
   "source": [
    "\"\"\"Number of top direct drugs administered over time\"\"\"\n",
    "chemo['treatment_year'] = chemo['treatment_date'].dt.year\n",
    "annual_counts = direct.groupby('treatment_year')['drug_name'].value_counts().reset_index()\n",
    "annual_counts = annual_counts[annual_counts['drug_name'].isin(top_drugs)]\n",
    "g = sns.relplot(\n",
    "    data=annual_counts, x='treatment_year', y='count', col='drug_name', col_wrap=3, kind='line', \n",
    "    facet_kws={'sharex': False, 'sharey': False}\n",
    ")\n",
    "for ax in g.axes.flat:\n",
    "    ax.xaxis.set_major_locator(MaxNLocator(integer=True))"
   ]
  },
  {
   "cell_type": "code",
   "execution_count": null,
   "id": "19",
   "metadata": {},
   "outputs": [],
   "source": [
    "\"\"\"\n",
    "Check the number of cases where the given dose differed from ordered dose\n",
    "\"\"\"\n",
    "tmp = direct[direct['given_dose'].notna()]\n",
    "mask = (tmp['given_dose'] == tmp['dose_ordered'])\n",
    "mask.value_counts()"
   ]
  }
 ],
 "metadata": {
  "kernelspec": {
   "display_name": "llm",
   "language": "python",
   "name": "llm"
  },
  "language_info": {
   "codemirror_mode": {
    "name": "ipython",
    "version": 3
   },
   "file_extension": ".py",
   "mimetype": "text/x-python",
   "name": "python",
   "nbconvert_exporter": "python",
   "pygments_lexer": "ipython3",
   "version": "3.11.10"
  }
 },
 "nbformat": 4,
 "nbformat_minor": 5
}
