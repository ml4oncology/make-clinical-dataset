{
 "cells": [
  {
   "cell_type": "code",
   "execution_count": null,
   "id": "0",
   "metadata": {
    "tags": []
   },
   "outputs": [],
   "source": [
    "%%capture\n",
    "%cd ../../\n",
    "%load_ext autoreload\n",
    "%autoreload 2"
   ]
  },
  {
   "cell_type": "code",
   "execution_count": null,
   "id": "1",
   "metadata": {
    "tags": []
   },
   "outputs": [],
   "source": [
    "import matplotlib.pyplot as plt\n",
    "import numpy as np\n",
    "import pandas as pd\n",
    "import seaborn as sns\n",
    "from matplotlib.colors import LogNorm\n",
    "from tqdm import tqdm\n",
    "\n",
    "from make_clinical_dataset import ROOT_DIR\n",
    "from make_clinical_dataset.constants import OBS_MAP\n",
    "from make_clinical_dataset.preprocess.epr.lab import clean_lab_data\n",
    "from make_clinical_dataset.preprocess.epr.opis import clean_drug_name, filter_treatment_data\n",
    "from make_clinical_dataset.preprocess.epr.radiology import get_radiology_data\n",
    "from make_clinical_dataset.util import load_included_drugs, load_included_regimens\n",
    "\n",
    "pd.set_option('display.max_columns', 110)\n",
    "pd.set_option('display.max_rows', 110)"
   ]
  },
  {
   "cell_type": "code",
   "execution_count": null,
   "id": "2",
   "metadata": {},
   "outputs": [],
   "source": [
    "# load external data\n",
    "included_drugs = load_included_drugs()\n",
    "included_regimens = load_included_regimens()\n",
    "\n",
    "mrn_map = pd.read_csv(f'{ROOT_DIR}/data/external/MRN_map.csv')\n",
    "mrn_map = mrn_map.set_index('RESEARCH_ID')['PATIENT_MRN'].to_dict()"
   ]
  },
  {
   "attachments": {},
   "cell_type": "markdown",
   "id": "3",
   "metadata": {
    "jp-MarkdownHeadingCollapsed": true
   },
   "source": [
    "# Lab Data"
   ]
  },
  {
   "cell_type": "code",
   "execution_count": null,
   "id": "4",
   "metadata": {},
   "outputs": [],
   "source": [
    "biochem = pd.read_parquet(f'{ROOT_DIR}/data/raw/biochemistry.parquet.gzip')\n",
    "hema = pd.read_parquet(f'{ROOT_DIR}/data/raw/hematology.parquet.gzip')\n",
    "lab_data = {'Hematology': hema, 'Biochemistry': biochem}"
   ]
  },
  {
   "cell_type": "code",
   "execution_count": null,
   "id": "5",
   "metadata": {},
   "outputs": [],
   "source": [
    "\"\"\"\n",
    "Check out the lab name groupings\n",
    "\"\"\"\n",
    "for lab_name, df in lab_data.items():\n",
    "    assert not (df['component-code-coding-0-display'].notnull() & df['component-code-text'].notnull()).any()\n",
    "    df['name'] = df['component-code-coding-0-display'].fillna(df['component-code-text'])\n",
    "    df['group'] = df['name'].map(OBS_MAP[lab_name])\n",
    "    df['value'] = df['component-valueQuantity-value']\n",
    "\n",
    "    vals = OBS_MAP[lab_name].values()\n",
    "    nrows, ncols = df['group'].nunique() // 2 + 1, 2\n",
    "    fig, axes = plt.subplots(nrows=nrows, ncols=ncols, figsize=(8*ncols, 6*nrows))\n",
    "    axes = axes.flatten()\n",
    "    i = 0\n",
    "    for name, group in df.groupby('group'):\n",
    "        group['value'] = group['value'].clip(upper=group['value'].quantile(0.99))\n",
    "        palette = sns.color_palette('husl', group['name'].nunique())\n",
    "        sns.boxplot(data=group, x=\"name\", y=\"value\", ax=axes[i], hue=\"name\")\n",
    "        axes[i].set(title=f'{name} (N={len(group)})')\n",
    "        i += 1\n",
    "\n",
    "    # store the original lab names\n",
    "    # df['name'].value_counts().to_csv(f'{ROOT_DIR}/data/interim/{lab_name.lower()}_lab_names.csv')"
   ]
  },
  {
   "attachments": {},
   "cell_type": "markdown",
   "id": "6",
   "metadata": {},
   "source": [
    "## 'component-code-coding-0-display' vs 'component-code-text'\n",
    "NOTE: also the timestamp format differs based on which column is used"
   ]
  },
  {
   "cell_type": "code",
   "execution_count": null,
   "id": "7",
   "metadata": {},
   "outputs": [],
   "source": [
    "for lab_name, df in lab_data.items():\n",
    "    df = clean_lab_data(df)\n",
    "    df = df[df['obs_value'].notnull()]\n",
    "    df['obs_display'] = df['obs_display'].map(OBS_MAP[lab_name])\n",
    "    df['obs_text'] = df['obs_text'].map(OBS_MAP[lab_name])\n",
    "    assert df['obs_display'].nunique() == df['obs_text'].nunique()\n",
    "    lab_data[lab_name] = df"
   ]
  },
  {
   "attachments": {},
   "cell_type": "markdown",
   "id": "8",
   "metadata": {},
   "source": [
    "### compare process codes between the two"
   ]
  },
  {
   "cell_type": "code",
   "execution_count": null,
   "id": "9",
   "metadata": {},
   "outputs": [],
   "source": [
    "df = lab_data['Hematology']\n",
    "print(df.groupby('obs_display')['proc_name'].value_counts())\n",
    "print('#'*100)\n",
    "print(df.groupby('obs_text')['proc_name'].value_counts())"
   ]
  },
  {
   "cell_type": "code",
   "execution_count": null,
   "id": "10",
   "metadata": {},
   "outputs": [],
   "source": [
    "df = lab_data['Biochemistry']\n",
    "print(df.groupby('obs_display')['proc_name'].value_counts())\n",
    "print('#'*100)\n",
    "print(df.groupby('obs_text')['proc_name'].value_counts())"
   ]
  },
  {
   "attachments": {},
   "cell_type": "markdown",
   "id": "11",
   "metadata": {},
   "source": [
    "### compare lab units between the two"
   ]
  },
  {
   "cell_type": "code",
   "execution_count": null,
   "id": "12",
   "metadata": {},
   "outputs": [],
   "source": [
    "df = lab_data['Hematology']\n",
    "print(df.groupby('obs_display')['obs_unit'].value_counts())\n",
    "print('#'*100)\n",
    "print(df.groupby('obs_text')['obs_unit'].value_counts())"
   ]
  },
  {
   "cell_type": "code",
   "execution_count": null,
   "id": "13",
   "metadata": {},
   "outputs": [],
   "source": [
    "df = lab_data['Biochemistry']\n",
    "print(df.groupby('obs_display')['obs_unit'].value_counts())\n",
    "print('#'*100)\n",
    "print(df.groupby('obs_text')['obs_unit'].value_counts())"
   ]
  },
  {
   "attachments": {},
   "cell_type": "markdown",
   "id": "14",
   "metadata": {},
   "source": [
    "### Observation value distribution"
   ]
  },
  {
   "cell_type": "code",
   "execution_count": null,
   "id": "15",
   "metadata": {},
   "outputs": [],
   "source": [
    "for lab_name, df in lab_data.items():\n",
    "    fig, axes = plt.subplots(nrows=df['obs_display'].nunique(), ncols=2, figsize=(20,50))\n",
    "    clip_thresh = {}\n",
    "    for col_idx, col in enumerate(['obs_display', 'obs_text']):\n",
    "        tmp = df[df[col].notnull()]\n",
    "        for row_idx, (obs_name, obs_value) in enumerate(tmp['obs_value'].groupby(tmp[col])):\n",
    "            ax = axes[row_idx, col_idx]\n",
    "            if obs_name not in clip_thresh: \n",
    "                clip_thresh[obs_name] = (obs_value.quantile(0.01), obs_value.quantile(0.99))\n",
    "            obs_value = obs_value.clip(*clip_thresh[obs_name])\n",
    "            sns.histplot(obs_value, bins=20, kde=True, ax=ax)\n",
    "            ax.set(title=f'{obs_name} {col}')\n",
    "    plt.tight_layout()"
   ]
  },
  {
   "attachments": {},
   "cell_type": "markdown",
   "id": "16",
   "metadata": {},
   "source": [
    "## Measurement count over time"
   ]
  },
  {
   "cell_type": "code",
   "execution_count": null,
   "id": "17",
   "metadata": {},
   "outputs": [],
   "source": [
    "lab = pd.read_parquet(f'{ROOT_DIR}/data/interim/lab.parquet.gzip')\n",
    "lab['obs_year'] = pd.to_datetime(lab['obs_date']).dt.year\n",
    "cols = lab.columns.drop(['mrn', 'obs_year', 'obs_date'])\n",
    "counts = lab.groupby('obs_year').apply(lambda g: g[cols].notnull().sum())\n",
    "counts = counts.reset_index().melt('obs_year', var_name='lab_test', value_name='count')\n",
    "g = sns.relplot(\n",
    "    data=counts, x='obs_year', y='count', col='lab_test', col_wrap=3, kind='line', \n",
    "    facet_kws={'sharex': False, 'sharey': False}\n",
    ")"
   ]
  },
  {
   "attachments": {},
   "cell_type": "markdown",
   "id": "18",
   "metadata": {},
   "source": [
    "# Symptom Data"
   ]
  },
  {
   "cell_type": "code",
   "execution_count": null,
   "id": "19",
   "metadata": {},
   "outputs": [],
   "source": [
    "dart = pd.read_parquet(f'{ROOT_DIR}/data/raw/dart.parquet.gzip')\n",
    "symp = pd.read_parquet(f'{ROOT_DIR}/data/interim/symptom.parquet.gzip')"
   ]
  },
  {
   "attachments": {},
   "cell_type": "markdown",
   "id": "20",
   "metadata": {},
   "source": [
    "## Measurement count over time"
   ]
  },
  {
   "cell_type": "code",
   "execution_count": null,
   "id": "21",
   "metadata": {},
   "outputs": [],
   "source": [
    "symp['survey_year'] = pd.to_datetime(symp['survey_date']).dt.year\n",
    "cols = symp.columns.drop(['mrn', 'survey_year', 'survey_date'])\n",
    "counts = symp.groupby('survey_year').apply(lambda g: g[cols].notnull().sum())\n",
    "counts = counts.reset_index().melt('survey_year', var_name='symptom', value_name='count')\n",
    "g = sns.relplot(\n",
    "    data=counts, x='survey_year', y='count', col='symptom', col_wrap=3, kind='line', \n",
    "    facet_kws={'sharex': False, 'sharey': False}\n",
    ")"
   ]
  },
  {
   "attachments": {},
   "cell_type": "markdown",
   "id": "22",
   "metadata": {},
   "source": [
    "## Score distribution"
   ]
  },
  {
   "cell_type": "code",
   "execution_count": null,
   "id": "23",
   "metadata": {},
   "outputs": [],
   "source": [
    "fig, axes = plt.subplots(nrows=int(np.ceil(len(cols)/2)), ncols=2, figsize=(10,25))\n",
    "axes = axes.flatten()\n",
    "for idx, col in enumerate(cols): \n",
    "    sns.histplot(symp[col], ax=axes[idx], discrete=True)\n",
    "plt.tight_layout()"
   ]
  },
  {
   "cell_type": "markdown",
   "id": "24",
   "metadata": {},
   "source": [
    "## Compare demographic info with cancer registry"
   ]
  },
  {
   "cell_type": "code",
   "execution_count": null,
   "id": "25",
   "metadata": {},
   "outputs": [],
   "source": [
    "canc_reg = pd.read_parquet(f'{ROOT_DIR}/data/raw/cancer_registry.parquet.gzip')\n",
    "mrns = list(set(canc_reg['MEDICAL_RECORD_NUMBER']).intersection(dart['MRN']))\n",
    "canc_reg_sex = canc_reg.groupby('MEDICAL_RECORD_NUMBER')['SEX'].unique()[mrns]\n",
    "dart_sex = dart.groupby('MRN')['GENDER'].unique()[mrns]\n",
    "mrns_with_conflict = [mrn for mrn in mrns if any(canc_reg_sex[mrn] != dart_sex[mrn]) or len(dart_sex[mrn]) > 1]\n",
    "print(f'{len(mrns_with_conflict)} patients with conflicting sex info out of {len(dart_sex)} overlapping patients')"
   ]
  },
  {
   "attachments": {},
   "cell_type": "markdown",
   "id": "26",
   "metadata": {},
   "source": [
    "# Treatment Data"
   ]
  },
  {
   "cell_type": "code",
   "execution_count": null,
   "id": "27",
   "metadata": {},
   "outputs": [],
   "source": [
    "opis = pd.read_parquet(f'{ROOT_DIR}/data/raw/opis.parquet.gzip')\n",
    "trt = pd.read_parquet(f'{ROOT_DIR}/data/interim/treatment.parquet.gzip')"
   ]
  },
  {
   "attachments": {},
   "cell_type": "markdown",
   "id": "28",
   "metadata": {},
   "source": [
    "## Intent"
   ]
  },
  {
   "cell_type": "code",
   "execution_count": null,
   "id": "29",
   "metadata": {},
   "outputs": [],
   "source": [
    "\"\"\"\n",
    "Usually, after palliative intent treatment, rest of the treatment remains palliative.\n",
    "\n",
    "Check the number of cases where that is not true.\n",
    "\"\"\"\n",
    "def check_intent_stays_palliative(df):\n",
    "    mask = df['intent'] == 'PALLIATIVE'\n",
    "    if not mask.any():\n",
    "        return True\n",
    "    idx = mask[mask].index[0]\n",
    "    return all(mask.loc[idx:])\n",
    "\n",
    "mask = trt.groupby('mrn').apply(check_intent_stays_palliative)\n",
    "mask.value_counts()"
   ]
  },
  {
   "cell_type": "code",
   "execution_count": null,
   "id": "30",
   "metadata": {},
   "outputs": [],
   "source": [
    "\"\"\"Number of treatments over time\"\"\"\n",
    "trt['treatment_year'] = trt['treatment_date'].dt.year\n",
    "counts = trt.groupby('treatment_year')['intent'].value_counts()\n",
    "counts = pd.DataFrame(counts).rename(columns={'intent': 'count'}).reset_index()\n",
    "counts = counts.pivot(index='treatment_year', columns='intent', values='count')\n",
    "sns.lineplot(data=counts)"
   ]
  },
  {
   "attachments": {},
   "cell_type": "markdown",
   "id": "31",
   "metadata": {},
   "source": [
    "## First Treatment Date"
   ]
  },
  {
   "cell_type": "code",
   "execution_count": null,
   "id": "32",
   "metadata": {},
   "outputs": [],
   "source": [
    "\"\"\"\n",
    "Usually, the first treatment date is monotonically increasing (patients do not continue old treatment after starting new treatment)\n",
    "\n",
    "Check the number of cases where that is not true.\n",
    "\"\"\"\n",
    "mask = trt.groupby('mrn').apply(lambda g: all(g['first_treatment_date'] == sorted(g['first_treatment_date'])))\n",
    "mask.value_counts()"
   ]
  },
  {
   "attachments": {},
   "cell_type": "markdown",
   "id": "33",
   "metadata": {},
   "source": [
    "## Height and Weight"
   ]
  },
  {
   "cell_type": "code",
   "execution_count": null,
   "id": "34",
   "metadata": {},
   "outputs": [],
   "source": [
    "\"\"\"Height/weight distribution of patients undertaking treatment\"\"\" \n",
    "height_and_weight = trt.groupby('mrn').agg({'height': 'mean', 'weight': 'mean'})\n",
    "sns.displot(data=height_and_weight, x='height', y='weight')"
   ]
  },
  {
   "attachments": {},
   "cell_type": "markdown",
   "id": "35",
   "metadata": {},
   "source": [
    "## Drugs"
   ]
  },
  {
   "cell_type": "code",
   "execution_count": null,
   "id": "36",
   "metadata": {},
   "outputs": [],
   "source": [
    "\"\"\"Number of drugs administered over time\"\"\"\n",
    "trt['treatment_year'] = trt['treatment_date'].dt.year\n",
    "cols = trt.columns\n",
    "drug_cols = cols[cols.str.endswith('given_dose')]\n",
    "counts = trt.groupby('treatment_year').apply(lambda g: (g[drug_cols] != 0).sum(), include_groups=False)\n",
    "counts = counts.rename(columns={col: col.replace('drug_', '').replace('_given_dose', '') for col in drug_cols})\n",
    "counts = counts.reset_index().melt('treatment_year', var_name='drug', value_name='count')\n",
    "g = sns.relplot(\n",
    "    data=counts, x='treatment_year', y='count', col='drug', col_wrap=3, kind='line', \n",
    "    facet_kws={'sharex': False, 'sharey': False}\n",
    ")"
   ]
  },
  {
   "cell_type": "code",
   "execution_count": null,
   "id": "37",
   "metadata": {},
   "outputs": [],
   "source": [
    "\"\"\"\n",
    "Check the number of cases where the dose given differed from dose ordered\n",
    "\"\"\"\n",
    "mask = (opis['Dose_Given'] == opis['Dose_Ord'])\n",
    "mask.value_counts()"
   ]
  },
  {
   "cell_type": "code",
   "execution_count": null,
   "id": "38",
   "metadata": {},
   "outputs": [],
   "source": [
    "\"\"\"\n",
    "Check out the drug groupings\n",
    "\"\"\"\n",
    "import logging; logging.disable(logging.CRITICAL) # temporarily disable logging\n",
    "\n",
    "df = filter_treatment_data(opis, included_drugs, included_regimens)\n",
    "nrows, ncols = df['drug_name'].nunique() // 2 + 1, 2\n",
    "fig, axes = plt.subplots(nrows=nrows, ncols=ncols, figsize=(8*ncols, 6*nrows))\n",
    "axes = axes.flatten()\n",
    "for i, (drug_name, group) in enumerate(df.groupby('drug_name')):\n",
    "    # if group['orig_drug_name'].nunique() < 2: continue\n",
    "    palette = sns.color_palette('husl', group['orig_drug_name'].nunique())\n",
    "    sns.boxplot(data=group, x=\"orig_drug_name\", y=\"given_dose\", ax=axes[i], hue=\"orig_drug_name\")\n",
    "    axes[i].set(title=f'{drug_name} (N={len(group)})')"
   ]
  },
  {
   "cell_type": "code",
   "execution_count": null,
   "id": "39",
   "metadata": {},
   "outputs": [],
   "source": [
    "# how often regimen_dose is NaN, which leads to %_ideal_dose to be NaN too\n",
    "def helper(g):\n",
    "    N = g['regimen_dose'].isna().sum()\n",
    "    return f\"{N} ({N/len(g)*100:.2f}%)\"\n",
    "df.groupby('drug_name').apply(helper, include_groups=False)"
   ]
  },
  {
   "attachments": {},
   "cell_type": "markdown",
   "id": "40",
   "metadata": {},
   "source": [
    "## Days Since Prev Session"
   ]
  },
  {
   "cell_type": "code",
   "execution_count": null,
   "id": "41",
   "metadata": {},
   "outputs": [],
   "source": [
    "# check the number of cases for each days since prev session\n",
    "pd.concat([\n",
    "    trt['days_since_last_treatment'].value_counts(),\n",
    "    trt.groupby('days_since_last_treatment').apply(lambda g: g['mrn'].nunique())\n",
    "], axis=1, keys=['Sessions', 'Patients']).sort_index().head(n=100)"
   ]
  },
  {
   "cell_type": "markdown",
   "id": "42",
   "metadata": {},
   "source": [
    "# Emerg Data"
   ]
  },
  {
   "cell_type": "code",
   "execution_count": null,
   "id": "43",
   "metadata": {},
   "outputs": [],
   "source": [
    "er_visit = pd.read_parquet(f'{ROOT_DIR}/data/raw/ER.parquet.gzip')\n",
    "erv = pd.read_parquet(f'{ROOT_DIR}/data/interim/emergency_room_visit.parquet.gzip')"
   ]
  },
  {
   "cell_type": "markdown",
   "id": "44",
   "metadata": {},
   "source": [
    "## ER Reason"
   ]
  },
  {
   "cell_type": "code",
   "execution_count": null,
   "id": "45",
   "metadata": {},
   "outputs": [],
   "source": [
    "erv['CEDIS_complaint'].value_counts().head(100)"
   ]
  },
  {
   "cell_type": "code",
   "execution_count": null,
   "id": "46",
   "metadata": {},
   "outputs": [],
   "source": [
    "# how often do CEDIS_complaint and chief_complaint deviate\n",
    "mask = erv['CEDIS_complaint'].str.lower() == erv['chief_complaint'].str.lower()\n",
    "mask.value_counts()"
   ]
  },
  {
   "cell_type": "markdown",
   "id": "47",
   "metadata": {},
   "source": [
    "# Death Data"
   ]
  },
  {
   "cell_type": "code",
   "execution_count": null,
   "id": "48",
   "metadata": {},
   "outputs": [],
   "source": [
    "cancer_registry_ddates = pd.read_parquet('./data/raw/cancer_registry.parquet.gzip')\n",
    "epr_death_ddates = pd.read_parquet('./data/raw/death_dates.parquet.gzip')\n",
    "cancer_registry_ddates.rename(columns={'MEDICAL_RECORD_NUMBER': 'mrn', 'DATE_OF_DEATH': 'date_of_death'}, inplace=True)\n",
    "epr_death_ddates.rename(columns={'MEDICAL_RECORD_NUMBER': 'mrn', 'DATE_OF_DEATH': 'date_of_death'}, inplace=True)\n",
    "epr_death_ddates['date_of_death'] = pd.to_datetime(epr_death_ddates['date_of_death'], format='%d%b%Y:%H:%M:%S')\n",
    "assert epr_death_ddates['date_of_death'].notnull().all() and not epr_death_ddates['mrn'].duplicated().any()\n",
    "df = pd.merge(cancer_registry_ddates, epr_death_ddates, on ='mrn', how='left', suffixes=('_cr', '_epr'))"
   ]
  },
  {
   "cell_type": "code",
   "execution_count": null,
   "id": "49",
   "metadata": {},
   "outputs": [],
   "source": [
    "mask1 = df[['date_of_death_cr', 'date_of_death_epr']].notnull().all(axis=1)\n",
    "mask2 = df['date_of_death_cr'].dt.date != df['date_of_death_epr']\n",
    "tmp = df[mask1 & mask2]\n",
    "diff = tmp['date_of_death_cr'] - tmp['date_of_death_epr']\n",
    "mask = diff.dt.days.abs() > 3\n",
    "conflicting_death_dates = tmp[mask].groupby('mrn')[['date_of_death_cr', 'date_of_death_epr']].first()\n",
    "print(f'There are {len(conflicting_death_dates)} patients with conflicting death dates greater than 3 days')\n",
    "mask = df['date_of_death_epr'].notnull() & df['date_of_death_cr'].isnull()\n",
    "print(f'There are {sum(mask)} patients with death dates in the EPR death dataset but not in the Cancer Registry dataset')\n",
    "mask = df['date_of_death_cr'].notnull() & df['date_of_death_epr'].isnull()\n",
    "print(f'There are {sum(mask)} patients with death dates in the Cancer Registry dataset but not in EPR death dataset')"
   ]
  },
  {
   "cell_type": "markdown",
   "id": "50",
   "metadata": {},
   "source": [
    "# Demographic / Cancer Data"
   ]
  },
  {
   "cell_type": "code",
   "execution_count": null,
   "id": "51",
   "metadata": {},
   "outputs": [],
   "source": [
    "dmg = pd.read_parquet(f'{ROOT_DIR}/data/interim/demographic.parquet.gzip')\n",
    "canc_cols = [col for col in dmg.columns if col.startswith('cancer_site')]"
   ]
  },
  {
   "cell_type": "code",
   "execution_count": null,
   "id": "52",
   "metadata": {},
   "outputs": [],
   "source": [
    "# number of patients diagnosed with multiple cancers\n",
    "mask = dmg[canc_cols].notnull().sum(axis=1) > 1\n",
    "mask.value_counts()"
   ]
  },
  {
   "cell_type": "code",
   "execution_count": null,
   "id": "53",
   "metadata": {},
   "outputs": [],
   "source": [
    "# number of patients diagnosed with two different cancers on the same day\n",
    "mask = dmg[cols].nunique(axis=1) != dmg[cols].notnull().sum(axis=1)\n",
    "mask.value_counts()"
   ]
  },
  {
   "cell_type": "markdown",
   "id": "54",
   "metadata": {},
   "source": [
    "# Radiology Data"
   ]
  },
  {
   "cell_type": "markdown",
   "id": "55",
   "metadata": {},
   "source": [
    "## Duplicate reports"
   ]
  },
  {
   "cell_type": "code",
   "execution_count": null,
   "id": "56",
   "metadata": {},
   "outputs": [],
   "source": [
    "reports = get_radiology_data(mrn_map, data_dir=f'{ROOT_DIR}/data/raw', drop_duplicates=False)"
   ]
  },
  {
   "cell_type": "code",
   "execution_count": null,
   "id": "57",
   "metadata": {},
   "outputs": [],
   "source": [
    "mask = reports.duplicated(subset=['mrn', 'raw_text', 'proc_name'], keep=False)\n",
    "print(f'{sum(mask)} duplicated reports with same proc_name found out of {len(mask)} reports')\n",
    "mask = reports.duplicated(subset=['mrn', 'raw_text'], keep=False)\n",
    "print(f'{sum(mask)} duplicated reports found out of {len(mask)} reports')\n",
    "duplicated_reports = reports[mask].sort_values(by='epr_datetime')"
   ]
  },
  {
   "cell_type": "code",
   "execution_count": null,
   "id": "58",
   "metadata": {},
   "outputs": [],
   "source": [
    "time_diffs = []\n",
    "for (mrn, text), g in tqdm(duplicated_reports.groupby(['mrn', 'raw_text'])):\n",
    "    time_diff = g['epr_datetime'] - g['epr_datetime'].iloc[0]\n",
    "    time_diff = time_diff[time_diff != pd.Timedelta(seconds=0)]\n",
    "    time_diffs.append(time_diff[1:])"
   ]
  },
  {
   "cell_type": "code",
   "execution_count": null,
   "id": "59",
   "metadata": {},
   "outputs": [],
   "source": [
    "time_diffs = pd.concat(time_diffs)\n",
    "bins = [\n",
    "    pd.Timedelta(minutes=0),\n",
    "    pd.Timedelta(hours=1),\n",
    "    pd.Timedelta(hours=2),\n",
    "    pd.Timedelta(hours=5),\n",
    "    pd.Timedelta(hours=24),\n",
    "    pd.Timedelta(days=2),\n",
    "    pd.Timedelta(days=5),\n",
    "    pd.Timedelta(days=5000),\n",
    "]\n",
    "labels = [\n",
    "    '0-1hour',\n",
    "    '1-2hours', \n",
    "    '2-5hours', \n",
    "    '5-24hours', \n",
    "    '1-2days', \n",
    "    '2-5days', \n",
    "    '5days+'\n",
    "]\n",
    "time_diffs = pd.cut(time_diffs, bins=bins, labels=labels)"
   ]
  },
  {
   "cell_type": "code",
   "execution_count": null,
   "id": "60",
   "metadata": {},
   "outputs": [],
   "source": [
    "ax = sns.histplot(data=time_diffs)\n",
    "ax.set(title='Entry timestamp difference between first report and duplicated report')\n",
    "ax.tick_params(axis='x', rotation=45)"
   ]
  },
  {
   "cell_type": "code",
   "execution_count": null,
   "id": "61",
   "metadata": {},
   "outputs": [],
   "source": [
    "paired_proc_names = duplicated_reports['proc_name'].unique()\n",
    "paired_proc_names = pd.DataFrame(1, columns=paired_proc_names, index=paired_proc_names).to_dict()\n",
    "for (mrn, text), g in tqdm(duplicated_reports.groupby(['mrn', 'raw_text'])):\n",
    "    proc_names = g['proc_name'].unique()\n",
    "    for i, proc_name1 in enumerate(proc_names):\n",
    "        for proc_name2 in proc_names[i+1:]:\n",
    "            paired_proc_names[proc_name1][proc_name2] += 1\n",
    "paired_proc_names = pd.DataFrame(paired_proc_names)\n",
    "\n",
    "drop = [name for name in paired_proc_names if all(paired_proc_names[name] == 0) & all(paired_proc_names.loc[name] == 0)]\n",
    "paired_proc_names = paired_proc_names.drop(index=drop, columns=drop)\n",
    "\n",
    "# drop = [name for name in paired_proc_names if 'CT' not in name]\n",
    "# paired_proc_names = paired_proc_names.drop(index=drop, columns=drop)\n",
    "\n",
    "keep = paired_proc_names.sum().sort_values(ascending=False).index[:20]\n",
    "paired_proc_names = paired_proc_names.loc[keep, keep]\n",
    "\n",
    "fig, ax = plt.subplots(figsize=(6,6))\n",
    "sns.heatmap(paired_proc_names, square=True, xticklabels=True, yticklabels=True, ax=ax, norm=LogNorm())"
   ]
  },
  {
   "cell_type": "markdown",
   "id": "62",
   "metadata": {},
   "source": [
    "# No Overlaps"
   ]
  },
  {
   "cell_type": "code",
   "execution_count": null,
   "id": "63",
   "metadata": {},
   "outputs": [],
   "source": [
    "def get_overlap_numbers(a, b, a_name, b_name):\n",
    "    set_a, set_b = set(a), set(b)\n",
    "    return pd.DataFrame(\n",
    "        data=[len(set_a - set_b), len(set_a & set_b), len(set_b - set_a)],\n",
    "        index=[f'Only {a_name}', 'In both', f'Only {b_name}']\n",
    "    ).T"
   ]
  },
  {
   "cell_type": "code",
   "execution_count": null,
   "id": "64",
   "metadata": {},
   "outputs": [],
   "source": [
    "biochem = pd.read_parquet(f'{ROOT_DIR}/data/raw/biochemistry.parquet.gzip')\n",
    "hema = pd.read_parquet(f'{ROOT_DIR}/data/raw/hematology.parquet.gzip')\n",
    "mrn_map = pd.read_csv(f'{ROOT_DIR}/data/external/MRN_map.csv')"
   ]
  },
  {
   "cell_type": "code",
   "execution_count": null,
   "id": "65",
   "metadata": {},
   "outputs": [],
   "source": [
    "# double checking the mrn mapping is unique\n",
    "assert mrn_map['RESEARCH_ID'].nunique() == mrn_map['PATIENT_MRN'].nunique() == len(mrn_map)\n",
    "print(f'{mrn_map[\"RESEARCH_ID\"].nunique()} patients in the MRN map')\n",
    "# all patients in biochemistry and hematology have a MRN (overlaps with MRN map)\n",
    "assert biochem['patientid'].isin(mrn_map['RESEARCH_ID']).all()\n",
    "assert hema['patientid'].isin(mrn_map['RESEARCH_ID']).all()\n",
    "get_overlap_numbers(biochem['patientid'], hema['patientid'], 'biochem', 'hema')"
   ]
  },
  {
   "cell_type": "code",
   "execution_count": null,
   "id": "66",
   "metadata": {},
   "outputs": [],
   "source": [
    "trt = pd.read_parquet(f'{ROOT_DIR}/data/interim/treatment.parquet.gzip')\n",
    "dmg = pd.read_parquet(f'{ROOT_DIR}/data/interim/demographic.parquet.gzip')\n",
    "get_overlap_numbers(trt['mrn'], dmg['mrn'], 'treatment', 'demographic')"
   ]
  },
  {
   "cell_type": "code",
   "execution_count": null,
   "id": "67",
   "metadata": {},
   "outputs": [],
   "source": [
    "trt = pd.read_parquet(f'{ROOT_DIR}/data/interim/treatment.parquet.gzip')\n",
    "lab = pd.read_parquet(f'{ROOT_DIR}/data/interim/lab.parquet.gzip')\n",
    "get_overlap_numbers(trt['mrn'], lab['mrn'], 'treatment', 'laboratory')"
   ]
  },
  {
   "cell_type": "code",
   "execution_count": null,
   "id": "68",
   "metadata": {},
   "outputs": [],
   "source": [
    "df = trt[['treatment_date']].copy()\n",
    "df['overlap'] = trt['mrn'].isin(lab['mrn'])\n",
    "sns.histplot(data=df, x='treatment_date', hue='overlap')"
   ]
  },
  {
   "cell_type": "code",
   "execution_count": null,
   "id": "69",
   "metadata": {},
   "outputs": [],
   "source": [
    "fig, (ax1, ax2) = plt.subplots(nrows=1, ncols=2, figsize=(15, 15))\n",
    "\n",
    "df = trt[['regimen', 'mrn']].copy()\n",
    "df['overlap'] = df['mrn'].isin(lab['mrn'])\n",
    "sns.histplot(data=df, y='regimen', hue='overlap', ax=ax1)\n",
    "ax1.set(xlabel='Count (Sessions)')\n",
    "ax1.yaxis.set_tick_params(labelsize=6)\n",
    "\n",
    "df = df.drop_duplicates(subset=['regimen', 'mrn'])\n",
    "sns.histplot(data=df, y='regimen', hue='overlap', ax=ax2)\n",
    "ax2.set(xlabel='Count (Patients)', ylabel=None)\n",
    "ax2.yaxis.set_tick_params(labelleft=False)\n",
    "\n",
    "plt.tight_layout()"
   ]
  },
  {
   "cell_type": "code",
   "execution_count": null,
   "id": "70",
   "metadata": {},
   "outputs": [],
   "source": [
    "df = pd.read_parquet(f'{ROOT_DIR}/data/processed/treatment_centered_clinical_dataset.parquet.gzip')\n",
    "lab = pd.read_parquet(f'{ROOT_DIR}/data/interim/lab.parquet.gzip')\n",
    "get_overlap_numbers(df['mrn'], lab['mrn'], 'final dataset', 'laboratory')"
   ]
  },
  {
   "cell_type": "code",
   "execution_count": null,
   "id": "71",
   "metadata": {},
   "outputs": [],
   "source": [
    "from ml_common.constants import CANCER_CODE_MAP\n",
    "cancer_site_cols = df.columns[df.columns.str.contains(\"cancer_site\")]\n",
    "df[\"cancer_site\"] = df[cancer_site_cols].apply(lambda mask: \", \".join(cancer_site_cols[mask].str.removeprefix(\"cancer_site_\")), axis=1)\n",
    "df[\"Cancer Site\"] = df[\"cancer_site\"].replace(CANCER_CODE_MAP)\n",
    "top_20_cancer_sites = df['Cancer Site'].value_counts().index[:20]\n",
    "df = df[df['Cancer Site'].isin(top_20_cancer_sites)]\n",
    "df['overlap'] = df['mrn'].isin(lab['mrn'])\n",
    "sns.histplot(data=df, y='Cancer Site', hue='overlap', stat='proportion')"
   ]
  },
  {
   "cell_type": "code",
   "execution_count": null,
   "id": "72",
   "metadata": {},
   "outputs": [],
   "source": [
    "trt = pd.read_parquet(f'{ROOT_DIR}/data/interim/treatment.parquet.gzip')\n",
    "symp = pd.read_parquet(f'{ROOT_DIR}/data/interim/symptom.parquet.gzip')\n",
    "get_overlap_numbers(trt['mrn'], symp['mrn'], 'treatment', 'symptom')"
   ]
  },
  {
   "cell_type": "code",
   "execution_count": null,
   "id": "73",
   "metadata": {},
   "outputs": [],
   "source": [
    "df = trt[['treatment_date']].copy()\n",
    "df['overlap'] = trt['mrn'].isin(symp['mrn'])\n",
    "sns.histplot(data=df, x='treatment_date', hue='overlap')"
   ]
  },
  {
   "cell_type": "code",
   "execution_count": null,
   "id": "74",
   "metadata": {},
   "outputs": [],
   "source": []
  }
 ],
 "metadata": {
  "kernelspec": {
   "display_name": "Python 3 (ipykernel)",
   "language": "python",
   "name": "python3"
  },
  "language_info": {
   "codemirror_mode": {
    "name": "ipython",
    "version": 3
   },
   "file_extension": ".py",
   "mimetype": "text/x-python",
   "name": "python",
   "nbconvert_exporter": "python",
   "pygments_lexer": "ipython3",
   "version": "3.11.10"
  }
 },
 "nbformat": 4,
 "nbformat_minor": 5
}
