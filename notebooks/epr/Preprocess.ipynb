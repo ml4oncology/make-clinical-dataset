{
 "cells": [
  {
   "cell_type": "code",
   "execution_count": null,
   "id": "0",
   "metadata": {},
   "outputs": [],
   "source": [
    "%%capture\n",
    "%cd ../../\n",
    "%load_ext autoreload\n",
    "%autoreload 2"
   ]
  },
  {
   "cell_type": "code",
   "execution_count": null,
   "id": "1",
   "metadata": {
    "tags": []
   },
   "outputs": [],
   "source": [
    "import pandas as pd\n",
    "import yaml\n",
    "\n",
    "from make_clinical_dataset.combine import (\n",
    "    add_engineered_features,\n",
    "    combine_demographic_to_main_data, \n",
    "    combine_event_to_main_data,\n",
    "    combine_meas_to_main_data,\n",
    "    combine_perc_dose_to_main_data,\n",
    "    combine_treatment_to_main_data,\n",
    ")\n",
    "from make_clinical_dataset.label import get_CTCAE_labels, get_death_labels, get_ED_labels, get_symptom_labels\n",
    "from make_clinical_dataset.preprocess.epr.cancer_registry import get_demographic_data\n",
    "from make_clinical_dataset.preprocess.epr.clinic import get_clinical_notes_data, get_clinic_visits_during_treatment, backfill_treatment_info\n",
    "from make_clinical_dataset.preprocess.epr.dart import get_symptoms_data\n",
    "from make_clinical_dataset.preprocess.epr.emergency import get_emergency_room_data\n",
    "from make_clinical_dataset.preprocess.epr.lab import get_lab_data\n",
    "from make_clinical_dataset.preprocess.epr.opis import get_treatment_data\n",
    "from make_clinical_dataset.preprocess.epr.radiology import get_radiology_data\n",
    "from make_clinical_dataset.preprocess.epr.recist import get_recist_data\n",
    "from make_clinical_dataset.util import load_included_drugs, load_included_regimens\n",
    "\n",
    "from ml_common.anchor import merge_closest_measurements\n",
    "\n",
    "pd.set_option('display.max_columns', 100)\n",
    "pd.set_option('display.max_rows', 100)"
   ]
  },
  {
   "cell_type": "code",
   "execution_count": null,
   "id": "2",
   "metadata": {},
   "outputs": [],
   "source": [
    "def quick_summary(df):\n",
    "    print(f'Number of sessions = {len(df)}')\n",
    "    print(f'Number of patients = {df[\"mrn\"].nunique()}')\n",
    "    print(f'Cohort from {df[\"treatment_date\"].min().date()} to {df[\"treatment_date\"].max().date()}')\n",
    "\n",
    "def check_overlap(main, feat, main_name, feat_name):\n",
    "    mask = ~main['mrn'].isin(feat['mrn'])\n",
    "    n_sessions = sum(mask)\n",
    "    perc_sessions = (mask).mean()*100\n",
    "    n_patients = main.loc[mask, 'mrn'].nunique()\n",
    "    perc_patients = (n_patients / main['mrn'].nunique()) * 100\n",
    "    print(f'{perc_sessions:.1f}% (N={n_sessions}) of sessions and {perc_patients:.1f}% (N={n_patients}) of patients '\n",
    "          f'in the {main_name} do not have overlapping mrns with the {feat_name}')"
   ]
  },
  {
   "cell_type": "code",
   "execution_count": null,
   "id": "3",
   "metadata": {},
   "outputs": [],
   "source": [
    "# load config\n",
    "with open('./config.yaml') as file:\n",
    "    cfg = yaml.safe_load(file)\n",
    "\n",
    "# load external data\n",
    "# data_dir = \"./data\"\n",
    "data_dir = \"/cluster/projects/gliugroup/2BLAST/data/final/data_2023-02-21\"\n",
    "included_drugs = load_included_drugs(data_dir=f'{data_dir}/external')\n",
    "included_regimens = load_included_regimens(data_dir=f'{data_dir}/external')\n",
    "\n",
    "mrn_map = pd.read_csv(f'{data_dir}/external/MRN_map.csv')\n",
    "mrn_map = mrn_map.set_index('RESEARCH_ID')['PATIENT_MRN'].to_dict()"
   ]
  },
  {
   "attachments": {},
   "cell_type": "markdown",
   "id": "4",
   "metadata": {},
   "source": [
    "# Build the features & targets"
   ]
  },
  {
   "attachments": {},
   "cell_type": "markdown",
   "id": "5",
   "metadata": {},
   "source": [
    "## DART"
   ]
  },
  {
   "cell_type": "code",
   "execution_count": null,
   "id": "6",
   "metadata": {
    "tags": []
   },
   "outputs": [],
   "source": [
    "dart = get_symptoms_data(data_dir=f'{data_dir}/raw')\n",
    "dart.to_parquet(f'{data_dir}/interim/symptom.parquet', compression='zstd', index=False)"
   ]
  },
  {
   "attachments": {},
   "cell_type": "markdown",
   "id": "7",
   "metadata": {},
   "source": [
    "## Cancer Registry"
   ]
  },
  {
   "cell_type": "code",
   "execution_count": null,
   "id": "8",
   "metadata": {
    "tags": []
   },
   "outputs": [],
   "source": [
    "canc_reg = get_demographic_data(data_dir=f'{data_dir}/raw')\n",
    "canc_reg.to_parquet(f'{data_dir}/interim/demographic.parquet', compression='zstd', index=False)"
   ]
  },
  {
   "attachments": {},
   "cell_type": "markdown",
   "id": "9",
   "metadata": {},
   "source": [
    "## OPIS"
   ]
  },
  {
   "cell_type": "code",
   "execution_count": null,
   "id": "10",
   "metadata": {
    "tags": []
   },
   "outputs": [],
   "source": [
    "opis = get_treatment_data(included_drugs, included_regimens, data_dir=f'{data_dir}/raw')\n",
    "opis.to_parquet(f'{data_dir}/interim/treatment.parquet', compression='zstd', index=False)\n",
    "quick_summary(opis)\n",
    "print(f'Number of unique regimens: {opis[\"regimen\"].nunique()}')"
   ]
  },
  {
   "attachments": {},
   "cell_type": "markdown",
   "id": "11",
   "metadata": {},
   "source": [
    "## Laboratory Tests \n",
    "Hematology and Biochemistry"
   ]
  },
  {
   "cell_type": "code",
   "execution_count": null,
   "id": "12",
   "metadata": {},
   "outputs": [],
   "source": [
    "lab = get_lab_data(mrn_map, data_dir=f'{data_dir}/raw')\n",
    "lab.to_parquet(f'{data_dir}/interim/lab.parquet', compression='zstd', index=False)"
   ]
  },
  {
   "cell_type": "markdown",
   "id": "13",
   "metadata": {},
   "source": [
    "## Emergency Room Visits"
   ]
  },
  {
   "cell_type": "code",
   "execution_count": null,
   "id": "14",
   "metadata": {},
   "outputs": [],
   "source": [
    "er_visit = get_emergency_room_data(data_dir=f'{data_dir}/raw')\n",
    "er_visit.to_parquet(f'{data_dir}/interim/emergency_room_visit.parquet', compression='zstd', index=False)"
   ]
  },
  {
   "cell_type": "markdown",
   "id": "15",
   "metadata": {},
   "source": [
    "## Radiology Reports"
   ]
  },
  {
   "cell_type": "code",
   "execution_count": null,
   "id": "16",
   "metadata": {},
   "outputs": [],
   "source": [
    "reports = get_radiology_data(mrn_map, data_dir=f'{data_dir}/raw')\n",
    "reports.to_parquet(f'{data_dir}/interim/reports.parquet', compression='zstd', index=False)"
   ]
  },
  {
   "cell_type": "markdown",
   "id": "17",
   "metadata": {},
   "source": [
    "## Clinical Notes"
   ]
  },
  {
   "cell_type": "code",
   "execution_count": null,
   "id": "18",
   "metadata": {},
   "outputs": [],
   "source": [
    "clinical_notes = get_clinical_notes_data(data_dir=f'{data_dir}/raw')\n",
    "clinical_notes.to_parquet(f'{data_dir}/interim/clinical_notes.parquet', compression='zstd', index=False)"
   ]
  },
  {
   "cell_type": "markdown",
   "id": "19",
   "metadata": {},
   "source": [
    "## RECIST - COMPASS"
   ]
  },
  {
   "cell_type": "code",
   "execution_count": null,
   "id": "20",
   "metadata": {},
   "outputs": [],
   "source": [
    "recist = get_recist_data(data_dir=f'{data_dir}/external')\n",
    "recist.to_parquet(f'{data_dir}/interim/recist.parquet', compression='zstd', index=False)"
   ]
  },
  {
   "attachments": {},
   "cell_type": "markdown",
   "id": "21",
   "metadata": {},
   "source": [
    "# Combine the features & targets"
   ]
  },
  {
   "cell_type": "code",
   "execution_count": null,
   "id": "22",
   "metadata": {},
   "outputs": [],
   "source": [
    "lab = pd.read_parquet(f'{data_dir}/interim/lab.parquet')\n",
    "trt = pd.read_parquet(f'{data_dir}/interim/treatment.parquet')\n",
    "dmg = pd.read_parquet(f'{data_dir}/interim/demographic.parquet')\n",
    "sym = pd.read_parquet(f'{data_dir}/interim/symptom.parquet')\n",
    "erv = pd.read_parquet(f'{data_dir}/interim/emergency_room_visit.parquet')\n",
    "last_seen = pd.read_parquet(f'{data_dir}/interim/last_seen_dates.parquet')"
   ]
  },
  {
   "cell_type": "code",
   "execution_count": null,
   "id": "23",
   "metadata": {},
   "outputs": [],
   "source": [
    "check_overlap(trt, lab, 'treatment database', 'laboratory database')\n",
    "check_overlap(trt, sym, 'treatment database', 'symptoms database')"
   ]
  },
  {
   "attachments": {},
   "cell_type": "markdown",
   "id": "24",
   "metadata": {},
   "source": [
    "## Align on treatment sessions"
   ]
  },
  {
   "cell_type": "code",
   "execution_count": null,
   "id": "25",
   "metadata": {},
   "outputs": [],
   "source": [
    "df = combine_demographic_to_main_data(trt, dmg, 'treatment_date')\n",
    "df['last_seen_date'] = df['mrn'].map(last_seen['last_seen_date'])\n",
    "df['assessment_date'] = df['treatment_date']\n",
    "quick_summary(df)"
   ]
  },
  {
   "cell_type": "code",
   "execution_count": null,
   "id": "26",
   "metadata": {},
   "outputs": [],
   "source": [
    "# Extract features\n",
    "# df = combine_meas_to_main_data(df, sym, 'treatment_date', 'survey_date', time_window=cfg['symp_lookback_window'], stats=['last'])\n",
    "# df = combine_meas_to_main_data(df, lab, 'treatment_date', 'obs_date', time_window=cfg['lab_lookback_window'], stats=['last'])\n",
    "# df.columns = df.columns.str.replace('_LAST', '')\n",
    "df = merge_closest_measurements(df, sym, 'treatment_date', 'survey_date', time_window=cfg['symp_lookback_window'])\n",
    "df = merge_closest_measurements(df, lab, 'treatment_date', 'obs_date', time_window=cfg['lab_lookback_window'])\n",
    "df = combine_event_to_main_data(df, erv, 'treatment_date', 'event_date', event_name='ED_visit', lookback_window=cfg['ed_visit_lookback_window'])\n",
    "df = combine_perc_dose_to_main_data(df, included_drugs)\n",
    "df = add_engineered_features(df, 'treatment_date')"
   ]
  },
  {
   "cell_type": "code",
   "execution_count": null,
   "id": "27",
   "metadata": {},
   "outputs": [],
   "source": [
    "# Extract targets\n",
    "df = get_death_labels(df, lookahead_window=[30, 365])\n",
    "df = get_ED_labels(df, erv[['mrn', 'event_date']].copy(), lookahead_window=30) #, 'CTAS_score', 'CEDIS_complaint']\n",
    "df = get_symptom_labels(df, sym, lookahead_window=30)\n",
    "df = get_CTCAE_labels(df, lab, lookahead_window=30)"
   ]
  },
  {
   "cell_type": "code",
   "execution_count": null,
   "id": "28",
   "metadata": {},
   "outputs": [],
   "source": [
    "df.to_parquet(f'{data_dir}/processed/treatment_centered_dataset.parquet', compression='zstd', index=False)"
   ]
  },
  {
   "cell_type": "markdown",
   "id": "29",
   "metadata": {},
   "source": [
    "## Align on clinic visits"
   ]
  },
  {
   "cell_type": "code",
   "execution_count": null,
   "id": "30",
   "metadata": {},
   "outputs": [],
   "source": [
    "clinic = pd.read_parquet(f'{data_dir}/interim/clinical_notes.parquet')\n",
    "check_overlap(trt, clinic, 'treatment database', 'clinic database')\n",
    "clinic = get_clinic_visits_during_treatment(clinic, trt)"
   ]
  },
  {
   "cell_type": "code",
   "execution_count": null,
   "id": "31",
   "metadata": {},
   "outputs": [],
   "source": [
    "# Extract features\n",
    "df = combine_treatment_to_main_data(clinic, trt, 'clinic_date', time_window=cfg['trt_lookback_window'])\n",
    "df['last_seen_date'] = df['mrn'].map(last_seen['last_seen_date'])\n",
    "df['assessment_date'] = df['clinic_date']\n",
    "df = backfill_treatment_info(df)\n",
    "quick_summary(df)\n",
    "df = combine_demographic_to_main_data(df, dmg, 'clinic_date')\n",
    "df = merge_closest_measurements(df, sym, 'clinic_date', 'survey_date', time_window=cfg['symp_lookback_window'])\n",
    "df = merge_closest_measurements(df, lab, 'clinic_date', 'obs_date', time_window=cfg['lab_lookback_window'])\n",
    "df = combine_event_to_main_data(df, erv, 'clinic_date', 'event_date', event_name='ED_visit', lookback_window=cfg['ed_visit_lookback_window'])\n",
    "df = combine_perc_dose_to_main_data(df, included_drugs)\n",
    "df = add_engineered_features(df, 'clinic_date')\n",
    "# Extract targets\n",
    "df = get_death_labels(df, lookahead_window=[30, 365])\n",
    "df = get_ED_labels(df, erv[['mrn', 'event_date']].copy(), lookahead_window=30)\n",
    "df = get_symptom_labels(df, sym, lookahead_window=30)\n",
    "df = get_CTCAE_labels(df, lab, lookahead_window=30)\n",
    "df.to_parquet(f'{data_dir}/processed/clinic_centered_dataset.parquet', compression='zstd', index=False)"
   ]
  },
  {
   "attachments": {},
   "cell_type": "markdown",
   "id": "32",
   "metadata": {},
   "source": [
    "## Align on every Mondays"
   ]
  },
  {
   "cell_type": "code",
   "execution_count": null,
   "id": "33",
   "metadata": {},
   "outputs": [],
   "source": [
    "from itertools import product\n",
    "mrns = trt['mrn'].unique()\n",
    "dates = pd.date_range(start='2018-01-01', end='2018-12-31', freq='W-MON')\n",
    "df = pd.DataFrame(product(mrns, dates), columns=['mrn', 'assessment_date'])\n",
    "df['last_seen_date'] = df['mrn'].map(last_seen['last_seen_date'])"
   ]
  },
  {
   "cell_type": "code",
   "execution_count": null,
   "id": "34",
   "metadata": {},
   "outputs": [],
   "source": [
    "# Extract features\n",
    "df = combine_treatment_to_main_data(df, trt, 'assessment_date', time_window=cfg['trt_lookback_window'])\n",
    "df = combine_demographic_to_main_data(df, dmg, 'assessment_date')\n",
    "df = merge_closest_measurements(df, sym, 'assessment_date', 'survey_date', time_window=cfg['symp_lookback_window'])\n",
    "df = merge_closest_measurements(df, lab, 'assessment_date', 'obs_date', time_window=cfg['lab_lookback_window'])\n",
    "df = combine_event_to_main_data(df, erv, 'assessment_date', 'event_date', event_name='ED_visit', lookback_window=cfg['ed_visit_lookback_window'])\n",
    "df = combine_perc_dose_to_main_data(df, included_drugs)\n",
    "df = add_engineered_features(df, 'assessment_date')\n",
    "# Extract targets\n",
    "df = get_death_labels(df, lookahead_window=[30, 365])\n",
    "df = get_ED_labels(df, erv[['mrn', 'event_date']].copy(), lookahead_window=30)\n",
    "df = get_symptom_labels(df, sym, lookahead_window=30)\n",
    "df = get_CTCAE_labels(df, lab, lookahead_window=30)\n",
    "# df.to_parquet(f'{data_dir}/processed/weekly_monday_clinical_dataset.parquet', compression='zstd', index=False)"
   ]
  }
 ],
 "metadata": {
  "kernelspec": {
   "display_name": "kevenv",
   "language": "python",
   "name": "kevenv"
  },
  "language_info": {
   "codemirror_mode": {
    "name": "ipython",
    "version": 3
   },
   "file_extension": ".py",
   "mimetype": "text/x-python",
   "name": "python",
   "nbconvert_exporter": "python",
   "pygments_lexer": "ipython3",
   "version": "3.11.9"
  }
 },
 "nbformat": 4,
 "nbformat_minor": 5
}
