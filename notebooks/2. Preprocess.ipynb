{
 "cells": [
  {
   "cell_type": "code",
   "execution_count": 2,
   "id": "1d403531-e2fd-4ac9-8aba-a3df86ae5864",
   "metadata": {
    "tags": []
   },
   "outputs": [
    {
     "name": "stdout",
     "output_type": "stream",
     "text": [
      "/Users/khe/Documents/Projects/PMClinicalDatasetMaker\n"
     ]
    }
   ],
   "source": [
    "%cd ../\n",
    "%load_ext autoreload\n",
    "%autoreload 2"
   ]
  },
  {
   "cell_type": "code",
   "execution_count": 3,
   "id": "15d5f1bc-4955-4214-86d7-089d5f07148a",
   "metadata": {
    "tags": []
   },
   "outputs": [],
   "source": [
    "import os\n",
    "import numpy as np\n",
    "import pandas as pd\n",
    "pd.set_option('display.max_columns', 100)\n",
    "pd.set_option('display.max_rows', 100)\n",
    "import yaml\n",
    "\n",
    "from src import ROOT_DIR\n",
    "from src.combine import (\n",
    "    add_engineered_features,\n",
    "    combine_demographic_to_main_data, \n",
    "    combine_feat_to_main_data, \n",
    "    combine_perc_dose_to_main_data,\n",
    "    combine_treatment_to_main_data\n",
    ")\n",
    "from src.preprocess.cancer_registry import get_demographic_data\n",
    "from src.preprocess.dart import get_symptoms_data\n",
    "from src.preprocess.lab import get_lab_data\n",
    "from src.preprocess.opis import get_treatment_data\n",
    "from src.util import load_included_drugs"
   ]
  },
  {
   "cell_type": "code",
   "execution_count": 3,
   "id": "7929db5b",
   "metadata": {},
   "outputs": [],
   "source": [
    "def quick_summary(df):\n",
    "    print(f'Number of treatment sessions = {len(df)}')\n",
    "    print(f'Number of patients = {df[\"mrn\"].nunique()}')\n",
    "    print(f'Cohort from {df[\"treatment_date\"].min().date()} to {df[\"treatment_date\"].max().date()}')"
   ]
  },
  {
   "cell_type": "code",
   "execution_count": 4,
   "id": "d351dfde",
   "metadata": {},
   "outputs": [],
   "source": [
    "# load config\n",
    "with open(f'{ROOT_DIR}/config.yaml') as file:\n",
    "    cfg = yaml.safe_load(file)\n",
    "\n",
    "# load external data\n",
    "included_drugs = load_included_drugs()\n",
    "\n",
    "mrn_map = pd.read_csv(f'{ROOT_DIR}/data/external/MRN_map.csv')\n",
    "mrn_map = mrn_map.set_index('RESEARCH_ID')['PATIENT_MRN'].to_dict()"
   ]
  },
  {
   "attachments": {},
   "cell_type": "markdown",
   "id": "206a28d7",
   "metadata": {},
   "source": [
    "# Build the features"
   ]
  },
  {
   "attachments": {},
   "cell_type": "markdown",
   "id": "53908125-3eb6-4a5c-a45e-2f4335db2f57",
   "metadata": {},
   "source": [
    "## DART"
   ]
  },
  {
   "cell_type": "code",
   "execution_count": 9,
   "id": "aa5a10ba-43ed-463e-915e-21a9bc37675b",
   "metadata": {
    "tags": []
   },
   "outputs": [
    {
     "name": "stderr",
     "output_type": "stream",
     "text": [
      "08:17:56 INFO:Removing 3 patients whose sex is Unknown\n",
      "08:17:56 INFO:Removing 161 patients without any symptom scores\n"
     ]
    }
   ],
   "source": [
    "dart, dart_demog = get_symptoms_data(data_dir=f'{ROOT_DIR}/data/raw')\n",
    "dart.to_parquet(f'{ROOT_DIR}/data/interim/symptom.parquet.gzip', compression='gzip', index=False)"
   ]
  },
  {
   "attachments": {},
   "cell_type": "markdown",
   "id": "3c5b9121-11c4-4800-b743-c306df88a3fb",
   "metadata": {},
   "source": [
    "## Cancer Registry"
   ]
  },
  {
   "cell_type": "code",
   "execution_count": 10,
   "id": "c5e05ae2-10e6-4f9a-aac6-b361b87107f7",
   "metadata": {
    "tags": []
   },
   "outputs": [
    {
     "name": "stderr",
     "output_type": "stream",
     "text": [
      "08:17:58 INFO:Removing 1 patients with no MRN\n",
      "08:17:58 INFO:Removing 2 patients whose sex is other than Male/Female\n",
      "08:17:59 INFO:Number of patients in cancer registry = 55928. Adding an additional 3560 patients from DART.\n"
     ]
    }
   ],
   "source": [
    "canc_reg = get_demographic_data(data_dir=f'{ROOT_DIR}/data/raw', external_data=dart_demog)\n",
    "canc_reg.to_parquet(f'{ROOT_DIR}/data/interim/demographic.parquet.gzip', compression='gzip', index=False)"
   ]
  },
  {
   "attachments": {},
   "cell_type": "markdown",
   "id": "f83b0fdb-1b36-4a44-9218-2d5f0e7f306c",
   "metadata": {},
   "source": [
    "## OPIS"
   ]
  },
  {
   "cell_type": "code",
   "execution_count": 11,
   "id": "be1cab16-877f-4c0c-aa6a-167a94da9d63",
   "metadata": {
    "tags": []
   },
   "outputs": [
    {
     "name": "stderr",
     "output_type": "stream",
     "text": [
      "08:18:06 INFO:Removing 1 patients with missing regimen info\n",
      "08:18:07 INFO:Removing 128 patients who received only trial, supportive, and/or non-aerodigestive drugs\n",
      "08:18:07 INFO:Removing 0 patients where dosage is not provided\n"
     ]
    },
    {
     "name": "stdout",
     "output_type": "stream",
     "text": [
      "Number of treatment sessions = 119830\n",
      "Number of patients = 10315\n",
      "Cohort from 2005-11-16 to 2021-02-01\n"
     ]
    }
   ],
   "source": [
    "opis = get_treatment_data(included_drugs, data_dir=f'{ROOT_DIR}/data/raw')\n",
    "opis.to_parquet(f'{ROOT_DIR}/data/interim/treatment.parquet.gzip', compression='gzip', index=False)\n",
    "quick_summary(opis)"
   ]
  },
  {
   "attachments": {},
   "cell_type": "markdown",
   "id": "fa9c9c23",
   "metadata": {},
   "source": [
    "## Laboratory Tests \n",
    "Hematology and Biochemistry"
   ]
  },
  {
   "cell_type": "code",
   "execution_count": 12,
   "id": "2af3ed92",
   "metadata": {},
   "outputs": [
    {
     "name": "stdout",
     "output_type": "stream",
     "text": [
      "{'sodium': 'mmol/L', 'chloride': 'mmol/L', 'potassium': 'mmol/L', 'hemoglobin': 'g/L', 'mean_corpuscular_volume': 'fL', 'mean_corpuscular_hemoglobin_concentration': 'g/L', 'platelet': 'x10e9/L', 'mean_corpuscular_hemoglobin': 'pg', 'mean_platelet_volume': 'fL', 'creatinine': 'umol/L', 'lymphocyte': 'x10e9/L', 'monocyte': 'x10e9/L', 'hematocrit': 'L/L', 'red_blood_cell': 'x10e12/L', 'white_blood_cell': 'x10e9/L', 'neutrophil': 'x10e9/L', 'glucose': 'mmol/L', 'magnesium': 'mmol/L', 'aspartate_aminotransferase': 'U/L', 'total_bilirubin': 'umol/L', 'alkaline_phosphatase': 'U/L', 'alanine_aminotransferase': 'U/L', 'eosinophil': 'x10e9/L', 'phosphate': 'mmol/L', 'bicarbonate': 'mmol/L', 'albumin': 'g/L', 'red_cell_distribution_width': '%CV', 'basophil': 'x10e9/L', 'lactate_dehydrogenase': 'U/L', 'activated_partial_thromboplastin_time': 's', 'carbohydrate_antigen_19-9': 'kU/L', 'carcinoembryonic_antigen': 'ug/L'}\n"
     ]
    }
   ],
   "source": [
    "lab = get_lab_data(mrn_map, data_dir=f'{ROOT_DIR}/data/raw')\n",
    "lab.to_parquet(f'{ROOT_DIR}/data/interim/lab.parquet.gzip', compression='gzip', index=False)"
   ]
  },
  {
   "attachments": {},
   "cell_type": "markdown",
   "id": "5863a840",
   "metadata": {},
   "source": [
    "# Combine the features"
   ]
  },
  {
   "cell_type": "code",
   "execution_count": 55,
   "id": "2beab9fd",
   "metadata": {},
   "outputs": [],
   "source": [
    "lab = pd.read_parquet(f'{ROOT_DIR}/data/interim/lab.parquet.gzip')\n",
    "trt = pd.read_parquet(f'{ROOT_DIR}/data/interim/treatment.parquet.gzip')\n",
    "dmg = pd.read_parquet(f'{ROOT_DIR}/data/interim/demographic.parquet.gzip')\n",
    "sym = pd.read_parquet(f'{ROOT_DIR}/data/interim/symptom.parquet.gzip')"
   ]
  },
  {
   "attachments": {},
   "cell_type": "markdown",
   "id": "b825e53c",
   "metadata": {},
   "source": [
    "## Align on treatment sessions"
   ]
  },
  {
   "cell_type": "code",
   "execution_count": 14,
   "id": "e31bd62f",
   "metadata": {},
   "outputs": [
    {
     "name": "stderr",
     "output_type": "stream",
     "text": [
      "08:25:11 INFO:Removing 221 patients with missing birth date\n",
      "08:25:11 INFO:Removing 0 patients under 18 years of age\n"
     ]
    },
    {
     "name": "stdout",
     "output_type": "stream",
     "text": [
      "Number of treatment sessions = 118442\n",
      "Number of patients = 10094\n",
      "Cohort from 2005-11-16 to 2021-02-01\n"
     ]
    }
   ],
   "source": [
    "df = combine_demographic_to_main_data(main=trt, demographic=dmg, main_date_col='treatment_date')\n",
    "quick_summary(df)"
   ]
  },
  {
   "cell_type": "code",
   "execution_count": 15,
   "id": "0293ae60",
   "metadata": {},
   "outputs": [
    {
     "name": "stderr",
     "output_type": "stream",
     "text": [
      "100%|██████████| 1847/1847 [00:22<00:00, 81.37it/s] \n",
      "100%|██████████| 1847/1847 [00:23<00:00, 78.36it/s]\n",
      "100%|██████████| 1848/1848 [00:24<00:00, 76.84it/s]\n",
      "100%|██████████| 1847/1847 [00:26<00:00, 70.92it/s] \n",
      "100%|██████████| 1907/1907 [00:28<00:00, 66.66it/s] \n",
      "100%|██████████| 1907/1907 [00:29<00:00, 65.04it/s]\n",
      "100%|██████████| 1907/1907 [00:29<00:00, 64.40it/s]\n",
      "100%|██████████| 1907/1907 [00:31<00:00, 61.22it/s]\n"
     ]
    }
   ],
   "source": [
    "#TODO: Try polars/dask for performance comparison\n",
    "df = combine_feat_to_main_data(\n",
    "    main=df, feat=sym, main_date_col='treatment_date', feat_date_col='survey_date', time_window=(-cfg['symp_days'],0)\n",
    ")\n",
    "df = combine_feat_to_main_data(\n",
    "    main=df, feat=lab, main_date_col='treatment_date', feat_date_col='obs_date', time_window=(-cfg['lab_days'],0)\n",
    ")"
   ]
  },
  {
   "cell_type": "code",
   "execution_count": 17,
   "id": "1b853995",
   "metadata": {},
   "outputs": [],
   "source": [
    "df = combine_perc_dose_to_main_data(main=df, included_drugs=included_drugs)\n",
    "df = add_engineered_features(df, date_col='treatment_date')"
   ]
  },
  {
   "cell_type": "code",
   "execution_count": 18,
   "id": "03f01791",
   "metadata": {},
   "outputs": [],
   "source": [
    "df.to_parquet(f'{ROOT_DIR}/data/processed/treatment_centered_clinical_dataset.parquet.gzip', compression='gzip', index=False)"
   ]
  },
  {
   "attachments": {},
   "cell_type": "markdown",
   "id": "cfd883cb",
   "metadata": {},
   "source": [
    "## Align on every Mondays"
   ]
  },
  {
   "cell_type": "code",
   "execution_count": 75,
   "id": "5ea68280",
   "metadata": {},
   "outputs": [],
   "source": [
    "from itertools import product\n",
    "mrns = trt['mrn'].unique()\n",
    "dates = pd.date_range(start='2018-01-01', end='2018-12-31', freq='W-MON')\n",
    "df = pd.DataFrame(product(mrns, dates), columns=['mrn', 'assessment_date'])"
   ]
  },
  {
   "cell_type": "code",
   "execution_count": 76,
   "id": "01c1352d",
   "metadata": {},
   "outputs": [
    {
     "name": "stderr",
     "output_type": "stream",
     "text": [
      "100%|██████████| 2579/2579 [00:58<00:00, 43.86it/s]\n",
      "100%|██████████| 2579/2579 [00:59<00:00, 43.51it/s]\n",
      "100%|██████████| 2579/2579 [01:00<00:00, 42.92it/s]\n",
      "100%|██████████| 2578/2578 [01:02<00:00, 40.97it/s]\n",
      "100%|██████████| 2579/2579 [00:52<00:00, 48.75it/s]\n",
      "100%|██████████| 2579/2579 [00:53<00:00, 48.58it/s]\n",
      "100%|██████████| 2579/2579 [00:54<00:00, 47.75it/s]\n",
      "100%|██████████| 2578/2578 [00:56<00:00, 46.01it/s]\n",
      "10:00:39 INFO:Removing 221 patients with missing birth date\n",
      "10:00:41 INFO:Removing 0 patients under 18 years of age\n",
      "100%|██████████| 1907/1907 [00:35<00:00, 54.39it/s]\n",
      "100%|██████████| 1907/1907 [00:35<00:00, 54.34it/s]\n",
      "100%|██████████| 1907/1907 [00:35<00:00, 53.37it/s]\n",
      "100%|██████████| 1907/1907 [00:37<00:00, 51.07it/s]\n"
     ]
    }
   ],
   "source": [
    "df = combine_treatment_to_main_data(df, trt, main_date_col='assessment_date', time_window=(-7,0))\n",
    "df = combine_demographic_to_main_data(main=df, demographic=dmg, main_date_col='assessment_date')\n",
    "df = combine_feat_to_main_data(\n",
    "    main=df, feat=lab, main_date_col='assessment_date', feat_date_col='obs_date', time_window=(-cfg['lab_days'],0)\n",
    ")\n",
    "df = combine_perc_dose_to_main_data(main=df, included_drugs=included_drugs)\n",
    "df = add_engineered_features(df, date_col='assessment_date')\n",
    "# df.to_parquet(f'{ROOT_DIR}/data/processed/weekly_monday_clinical_dataset.parquet.gzip', compression='gzip', index=False)"
   ]
  },
  {
   "cell_type": "code",
   "execution_count": null,
   "id": "60d1dcf2",
   "metadata": {},
   "outputs": [],
   "source": [
    "#TODO: analyze how missingness differs for 5 day, 7 day, 10 day, 14 day baseline lab value\n",
    "#TODO: set up DVC (data version control), set up github (private or public?), where to place data (in H4H cluster?)"
   ]
  }
 ],
 "metadata": {
  "kernelspec": {
   "display_name": "Python 3 (ipykernel)",
   "language": "python",
   "name": "python3"
  },
  "language_info": {
   "codemirror_mode": {
    "name": "ipython",
    "version": 3
   },
   "file_extension": ".py",
   "mimetype": "text/x-python",
   "name": "python",
   "nbconvert_exporter": "python",
   "pygments_lexer": "ipython3",
   "version": "3.11.2"
  }
 },
 "nbformat": 4,
 "nbformat_minor": 5
}
