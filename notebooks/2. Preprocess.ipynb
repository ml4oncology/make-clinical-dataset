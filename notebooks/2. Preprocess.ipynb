{
 "cells": [
  {
   "cell_type": "code",
   "execution_count": 1,
   "metadata": {},
   "outputs": [],
   "source": [
    "%%capture\n",
    "%cd ../\n",
    "%load_ext autoreload\n",
    "%autoreload 2"
   ]
  },
  {
   "cell_type": "code",
   "execution_count": 2,
   "id": "15d5f1bc-4955-4214-86d7-089d5f07148a",
   "metadata": {
    "tags": []
   },
   "outputs": [],
   "source": [
    "import pandas as pd\n",
    "import yaml\n",
    "\n",
    "from src import ROOT_DIR\n",
    "from src.combine import (\n",
    "    add_engineered_features,\n",
    "    combine_demographic_to_main_data, \n",
    "    combine_event_to_main_data,\n",
    "    combine_feat_to_main_data, \n",
    "    combine_perc_dose_to_main_data,\n",
    "    combine_treatment_to_main_data\n",
    ")\n",
    "from src.preprocess.cancer_registry import get_demographic_data\n",
    "from src.preprocess.dart import get_symptoms_data\n",
    "from src.preprocess.emergency import get_emergency_room_data\n",
    "from src.preprocess.lab import get_lab_data\n",
    "from src.preprocess.opis import get_treatment_data\n",
    "from src.util import load_included_drugs, load_included_regimens\n",
    "\n",
    "pd.set_option('display.max_columns', 100)\n",
    "pd.set_option('display.max_rows', 100)"
   ]
  },
  {
   "cell_type": "code",
   "execution_count": 3,
   "id": "7929db5b",
   "metadata": {},
   "outputs": [],
   "source": [
    "def quick_summary(df):\n",
    "    print(f'Number of treatment sessions = {len(df)}')\n",
    "    print(f'Number of patients = {df[\"mrn\"].nunique()}')\n",
    "    print(f'Cohort from {df[\"treatment_date\"].min().date()} to {df[\"treatment_date\"].max().date()}')"
   ]
  },
  {
   "cell_type": "code",
   "execution_count": 4,
   "id": "d351dfde",
   "metadata": {},
   "outputs": [],
   "source": [
    "# load config\n",
    "with open(f'{ROOT_DIR}/config.yaml') as file:\n",
    "    cfg = yaml.safe_load(file)\n",
    "\n",
    "# load external data\n",
    "included_drugs = load_included_drugs()\n",
    "included_regimens = load_included_regimens()\n",
    "\n",
    "mrn_map = pd.read_csv(f'{ROOT_DIR}/data/external/MRN_map.csv')\n",
    "mrn_map = mrn_map.set_index('RESEARCH_ID')['PATIENT_MRN'].to_dict()"
   ]
  },
  {
   "attachments": {},
   "cell_type": "markdown",
   "id": "206a28d7",
   "metadata": {},
   "source": [
    "# Build the features"
   ]
  },
  {
   "attachments": {},
   "cell_type": "markdown",
   "id": "53908125-3eb6-4a5c-a45e-2f4335db2f57",
   "metadata": {},
   "source": [
    "## DART"
   ]
  },
  {
   "cell_type": "code",
   "execution_count": 5,
   "id": "aa5a10ba-43ed-463e-915e-21a9bc37675b",
   "metadata": {
    "tags": []
   },
   "outputs": [
    {
     "name": "stderr",
     "output_type": "stream",
     "text": [
      "04:29:57 INFO:Removing 1118 patients and 8940 sessions in which consent to research was declined\n",
      "04:29:57 INFO:Removing 2 patients and 12 sessions in which sex is Unknown\n",
      "04:29:57 INFO:Removing 174 patients and 2468 sessions without any symptom scores\n"
     ]
    }
   ],
   "source": [
    "dart = get_symptoms_data(data_dir=f'{ROOT_DIR}/data/raw')\n",
    "dart.to_parquet(f'{ROOT_DIR}/data/interim/symptom.parquet.gzip', compression='gzip', index=False)"
   ]
  },
  {
   "attachments": {},
   "cell_type": "markdown",
   "id": "3c5b9121-11c4-4800-b743-c306df88a3fb",
   "metadata": {},
   "source": [
    "## Cancer Registry"
   ]
  },
  {
   "cell_type": "code",
   "execution_count": 6,
   "id": "c5e05ae2-10e6-4f9a-aac6-b361b87107f7",
   "metadata": {
    "tags": []
   },
   "outputs": [
    {
     "name": "stderr",
     "output_type": "stream",
     "text": [
      "04:30:30 INFO:Removing 1 patients and 1 sessions with no MRN\n",
      "04:30:30 INFO:Removing 2 patients and 2 sessions in which sex is other than Male/Female\n"
     ]
    }
   ],
   "source": [
    "canc_reg = get_demographic_data(data_dir=f'{ROOT_DIR}/data/raw')\n",
    "canc_reg.to_parquet(f'{ROOT_DIR}/data/interim/demographic.parquet.gzip', compression='gzip', index=False)"
   ]
  },
  {
   "attachments": {},
   "cell_type": "markdown",
   "id": "f83b0fdb-1b36-4a44-9218-2d5f0e7f306c",
   "metadata": {},
   "source": [
    "## OPIS"
   ]
  },
  {
   "cell_type": "code",
   "execution_count": 11,
   "id": "be1cab16-877f-4c0c-aa6a-167a94da9d63",
   "metadata": {
    "tags": []
   },
   "outputs": [
    {
     "name": "stderr",
     "output_type": "stream",
     "text": [
      "03:33:59 INFO:Removing 1 patients and 998 sessions with missing regimen info\n",
      "03:34:01 INFO:Removing 708 patients and 74259 sessions not part of selected regimens\n",
      "03:34:01 INFO:Removing 102 patients and 111404 sessions that received only trial, supportive, and/or non-aerodigestive drugs\n",
      "03:34:01 INFO:Removing 0 patients and 137 sessions where dosage is not provided\n",
      "03:34:01 INFO:Removing 0 patients and 1 sessions that are duplicate rows except for first_treatment_date\n",
      "03:34:02 INFO:Removing 0 patients and 1 sessions that are duplicate rows except for cycle_number\n"
     ]
    },
    {
     "name": "stdout",
     "output_type": "stream",
     "text": [
      "Number of treatment sessions = 118597\n",
      "Number of patients = 10272\n",
      "Cohort from 2005-11-16 to 2021-02-01\n"
     ]
    }
   ],
   "source": [
    "opis = get_treatment_data(included_drugs, included_regimens, data_dir=f'{ROOT_DIR}/data/raw')\n",
    "opis.to_parquet(f'{ROOT_DIR}/data/interim/treatment.parquet.gzip', compression='gzip', index=False)\n",
    "quick_summary(opis)"
   ]
  },
  {
   "cell_type": "code",
   "execution_count": 8,
   "metadata": {},
   "outputs": [
    {
     "name": "stdout",
     "output_type": "stream",
     "text": [
      "Number of unique regimens: 136\n"
     ]
    },
    {
     "data": {
      "text/plain": [
       "{'TRIAL': 9242,\n",
       " 'GI-FOLFIRI+BEVACIZUMAB': 8356,\n",
       " 'GI-GEM D1,8,15': 7223,\n",
       " 'LU-ETOPCISP-RT': 5654,\n",
       " 'GI-FOLFOX-6 MOD': 5473,\n",
       " 'GI-GEMCISP (BILIARY)': 4300,\n",
       " 'LU-ETOPCISP 3 DAY': 3477,\n",
       " 'LU-PEMETREXED (NSCLC)': 3378,\n",
       " 'LU-ETOPCARBO': 3297,\n",
       " 'GI-GEM+ABRAXANE': 3284,\n",
       " 'LU-VINOCISP': 3129,\n",
       " 'GI-MITOFU': 3128,\n",
       " 'GI-FOLFOX-4 MOD': 2807,\n",
       " 'GI-FOLFIRINOX': 2527,\n",
       " 'GI-ECF': 2414,\n",
       " 'GI-FOLFIRI': 2353,\n",
       " 'GI-FUFA-5 DAYS': 2078,\n",
       " 'LU-PEMBROLIZUMAB': 1839,\n",
       " 'GI-GEM 40MG/M2 2X/WK': 1753,\n",
       " 'GI-GEM 7-WEEKLY': 1697,\n",
       " 'LU-ETOPCARBO-RT': 1690,\n",
       " 'GI-GEMCAP': 1688,\n",
       " 'HN-CISPLATIN WEEKLY': 1682,\n",
       " 'GI-CISPFU ESOPHAGEAL': 1487,\n",
       " 'LU-PEMETREXED-CARBO': 1467,\n",
       " 'GI-FOLFIRINOX-MOD': 1463,\n",
       " 'LU-GEMCISP': 1438,\n",
       " 'GI-FU CIV + RT': 1354,\n",
       " 'LU-VINOCARBO': 1236,\n",
       " 'LU-GEMCARBO': 1163,\n",
       " 'GI-ECX': 1098,\n",
       " 'HN-GEM D1,8': 1078,\n",
       " 'LU-DOCEQ3W': 1068,\n",
       " 'GI-PANITUMUMAB': 983,\n",
       " 'LU-PACLICARBO': 857,\n",
       " 'LU-NIVOLUMAB (CCO)': 849,\n",
       " 'GI-FUFA C1,4,5 GASTRIC': 804,\n",
       " 'LU-NIVO Q4WEEKS (CCO)': 795,\n",
       " 'GI-FOLFOX (GASTRIC)': 756,\n",
       " 'LU-ETOPCISP-NO RT': 752,\n",
       " 'LU-PEMETREXED-CISPLAT': 726,\n",
       " 'GI-PACLI/CARBO WEEKX5': 710,\n",
       " 'LU-DURVALUMAB (COMP)': 705,\n",
       " 'GI-FOLFOX+BEVACIZUMAB': 622,\n",
       " 'HN-PACLICARBO': 619,\n",
       " 'HN-GEM D1,8; CARBO D1': 583,\n",
       " 'HN-GEM D1,8,15': 544,\n",
       " 'HN-GEM D1,8; CIS D1': 486,\n",
       " 'GI-XELOX': 470,\n",
       " 'GI-RAMUC(CCO)+PACL(W)': 439,\n",
       " 'HN-NIVO Q4WEEKS (CCO)': 417,\n",
       " 'HN-CISP D1,8,15 Q4WK': 414,\n",
       " 'LU-GEM D1,8': 399,\n",
       " 'GI-GEMCISP (PANCREAS)': 391,\n",
       " 'HN-CETUXIMAB (MAINT)': 364,\n",
       " 'GI-CISPFU ANAL': 352,\n",
       " 'GI-FUFA C2 (GASTRIC)': 348,\n",
       " 'LU-VINO D1,8': 346,\n",
       " 'LU-NIVOLUMAB (COMPASS)': 343,\n",
       " 'HN-DOCETAXEL WEEKLY': 321,\n",
       " 'GI-CISPCAPE+TRAS(MAIN)': 317,\n",
       " 'LU-CAV': 267,\n",
       " 'HN-NIVOLUMAB': 266,\n",
       " 'LU-ETOPCARBO-NO RT': 262,\n",
       " 'GI-FUFA+RT CYC 3,4': 259,\n",
       " 'LU-PEMBRO 4MG/KG Q6W': 248,\n",
       " 'GI-CISPFU + TRAS(MAIN)': 247,\n",
       " 'GI-PACLITAXEL': 244,\n",
       " 'GI-XELIRI ELDERLY': 237,\n",
       " 'GI-RAMUCIRUMAB+PACLI': 235,\n",
       " 'LU-PACLI/CARBO WEEKX6': 232,\n",
       " 'GI-FOLFIRINOX-MOD (ADJ': 232,\n",
       " 'LU-DURVA 20MG/KG Q4W': 227,\n",
       " 'LU-PEME-CARBO-PEMBRO': 225,\n",
       " 'GI-GEM D1,8': 212,\n",
       " 'GI-FLOT (GASTRIC)': 209,\n",
       " 'GI-FUFA WEEKLY': 204,\n",
       " 'LU-PEME-PEMBRO MAINT': 199,\n",
       " 'GI-ELF': 195,\n",
       " 'GI-IRINO Q3W': 188,\n",
       " 'HN-GEM/CIS + APREP': 182,\n",
       " 'GI-FUFA C3 (GASTRIC)': 168,\n",
       " 'GI-FOLFIRI+PANITUMUMAB': 167,\n",
       " 'LU-CAP (THYMOMA)': 165,\n",
       " 'GI-PACLI WEEKLY': 157,\n",
       " 'HN-ETOPCISP 3 DAY': 152,\n",
       " 'HN-DOCEQ3W': 150,\n",
       " 'HN-GEM+CIS (IND-NPC)': 147,\n",
       " 'LU-NIVOLUMAB (SAP)': 133,\n",
       " 'LU-DURVALUMAB (CCO)': 129,\n",
       " 'LU-GEMCISP +APREPITANT': 129,\n",
       " 'GI-FOLFNALIRI (COMP)': 124,\n",
       " 'HN-CARBO/FU D1-4 + RT': 116,\n",
       " 'GI-GEM D1,8 + CAPECIT': 114,\n",
       " 'LU-RALTICISP': 110,\n",
       " 'GI-FU/FA/CISP BILIARY': 104,\n",
       " 'LU-IRINOCARBO NO RT': 94,\n",
       " 'GI-IRINO 4-WEEKLY': 84,\n",
       " 'LU-RALTICARBO': 81,\n",
       " 'HN-CARBO WEEKLY': 65,\n",
       " 'HN-CETUXIMAB (LOAD)': 63,\n",
       " 'LU-GEM D1,8,15': 56,\n",
       " 'GI-CISPCAPE+TRAS(LOAD)': 54,\n",
       " 'HN-CARBO D1/5FU D1-4': 48,\n",
       " 'LU-IRINOCISP NO RT': 45,\n",
       " 'LU-TOPOTECAN': 40,\n",
       " 'GI-CISPFU + TRAS(LOAD)': 30,\n",
       " 'LU-DOCECISP': 26,\n",
       " 'GI-DOXO': 25,\n",
       " 'LU-DOCECARBO': 21,\n",
       " 'HN-PEMBRO(COMP)+CARBFU': 21,\n",
       " 'HN-HCDDP-CRT': 18,\n",
       " 'GI-CISCAP+TRASMAIN(BS)': 17,\n",
       " 'GI-CISFU+TRAS MAIN(BS)': 15,\n",
       " 'HN-DOCE/CISP Q3W': 14,\n",
       " 'LU-PACLICARBO+PEMBRO': 13,\n",
       " 'GI-GEMFU (BILIARY)': 11,\n",
       " 'GI-EOX': 10,\n",
       " 'HN-GEM D1,8,15 CIS D2': 10,\n",
       " 'HN-PEMBRO Q6W (COMP)': 9,\n",
       " 'GI-ATEZO+BEVA (COMP)': 7,\n",
       " 'GI-FOLFNALIRI': 6,\n",
       " 'GI-DOCEQ3W': 6,\n",
       " 'GI-IRINOCISP': 6,\n",
       " 'GI-CISFU+TRAS LOAD(BS)': 5,\n",
       " 'LU-PACLI/CARBO WEEKX5': 5,\n",
       " 'HN-CARBO D1,22,43 + RT': 5,\n",
       " 'LU-VINO D1,8,15': 4,\n",
       " 'LU-ATEZOLIZU (COMPASS) && LU-ETOPCARBO': 3,\n",
       " 'LU-ETOPCARB+ATEZ(COMP)': 3,\n",
       " 'LU-GEMCARBO && LU-PEMBROLIZUMAB': 2,\n",
       " 'GI-GEM+ABRAXANE && LU-PEMBROLIZUMAB': 2,\n",
       " 'LU-PEME-CISP-PEMBRO': 2,\n",
       " 'GI-GEM+OXALI (BILIARY)': 1,\n",
       " 'LU-GEMCARBO && LU-GEMCISP': 1,\n",
       " 'GI-CISCAP+TRASLOAD(BS)': 1}"
      ]
     },
     "execution_count": 8,
     "metadata": {},
     "output_type": "execute_result"
    }
   ],
   "source": [
    "print(f'Number of unique regimens: {opis[\"regimen\"].nunique()}')\n",
    "dict(opis['regimen'].value_counts())"
   ]
  },
  {
   "cell_type": "code",
   "execution_count": 9,
   "metadata": {},
   "outputs": [
    {
     "data": {
      "text/plain": [
       "['mrn',\n",
       " 'treatment_date',\n",
       " 'regimen',\n",
       " 'height',\n",
       " 'weight',\n",
       " 'body_surface_area',\n",
       " 'cycle_number',\n",
       " 'first_treatment_date',\n",
       " 'intent',\n",
       " 'drug_ATEZOLIZUMAB COMPASSIONATE SUP_given_dose',\n",
       " 'drug_ATEZOLIZUMAB STUDY SUPPLY_given_dose',\n",
       " 'drug_BEVACIZUMAB (AVASTIN)_given_dose',\n",
       " 'drug_BEVACIZUMAB TRIAL SUPPLY_given_dose',\n",
       " 'drug_CAPECITABINE_given_dose',\n",
       " 'drug_CAPECITABINE STUDY SUPPLY_given_dose',\n",
       " 'drug_CARBOPLATIN_given_dose',\n",
       " 'drug_CARBOPLATIN STUDY SUPPLY_given_dose',\n",
       " 'drug_CETUXIMAB_given_dose',\n",
       " 'drug_CETUXIMAB TRIAL SUPPLY_given_dose',\n",
       " 'drug_CISPLATIN_given_dose',\n",
       " 'drug_CISPLATIN STUDY SUPPLY_given_dose',\n",
       " 'drug_CYCLOPHOSPHAMIDE_given_dose',\n",
       " 'drug_DOCETAXEL_given_dose',\n",
       " 'drug_DOCETAXEL - PAID_given_dose',\n",
       " 'drug_DOCETAXEL STUDY SUPPLY_given_dose',\n",
       " 'drug_DOCETAXEL TRIAL SUPPLY_given_dose',\n",
       " 'drug_DOXORUBICIN HCL_given_dose',\n",
       " 'drug_DOXORUBICIN STUDY SUPPLY_given_dose',\n",
       " 'drug_DURVALUMAB_given_dose',\n",
       " 'drug_DURVALUMAB COMPASSIONATE SUPPL_given_dose',\n",
       " 'drug_DURVALUMAB STUDY SUPPLY_given_dose',\n",
       " 'drug_EPIRUBICIN HCL_given_dose',\n",
       " 'drug_ERLOTINIB_given_dose',\n",
       " 'drug_ERLOTINIB STUDY SUPPLY_given_dose',\n",
       " 'drug_ETOPOSIDE_given_dose',\n",
       " 'drug_FLUOROURACIL_given_dose',\n",
       " 'drug_FLUOROURACIL STUDY SUPPLY_given_dose',\n",
       " 'drug_GEMCITABINE - PAID_given_dose',\n",
       " 'drug_GEMCITABINE HCL_given_dose',\n",
       " 'drug_GEMCITABINE TRIAL SUPPLY_given_dose',\n",
       " 'drug_IPILIMUMAB_given_dose',\n",
       " 'drug_IPILIMUMAB STUDY SUPPLY_given_dose',\n",
       " 'drug_IRINOTECAN HCL_given_dose',\n",
       " 'drug_LENVATINIB STUDY SUPPLY_given_dose',\n",
       " 'drug_LIPOSOMAL IRINOTECAN (ONIVYDE)_given_dose',\n",
       " 'drug_MITOMYCIN_given_dose',\n",
       " 'drug_NAB-PACL(ABRAXANE) STUDY SUPPL_given_dose',\n",
       " 'drug_NAB-PACLITAXEL(ABRAXANE)_given_dose',\n",
       " 'drug_NANOLIPOSOMAL IRINOTECAN SAP_given_dose',\n",
       " 'drug_NIVOLUMAB_given_dose',\n",
       " 'drug_NIVOLUMAB COMPASSIONATE SUPPLY_given_dose',\n",
       " 'drug_NIVOLUMAB STUDY SUPPLY_given_dose',\n",
       " 'drug_OLAPARIB STUDY SUPPLY_given_dose',\n",
       " 'drug_OXALIPLATIN_given_dose',\n",
       " 'drug_OXALIPLATIN TRIAL SUPPLY_given_dose',\n",
       " 'drug_PACLITAXEL_given_dose',\n",
       " 'drug_PACLITAXEL - PAID_given_dose',\n",
       " 'drug_PACLITAXEL STUDY SUPPLY_given_dose',\n",
       " 'drug_PANITUMUMAB_given_dose',\n",
       " 'drug_PEMBROLIZUMAB_given_dose',\n",
       " 'drug_PEMBROLIZUMAB COMPASSIONATE_given_dose',\n",
       " 'drug_PEMBROLIZUMAB STUDY SUPPLY_given_dose',\n",
       " 'drug_PEMETREXED DISODIUM_given_dose',\n",
       " 'drug_PEMETREXED STUDY SUPPLY_given_dose',\n",
       " 'drug_PERTUZUMAB STUDY SUPPLY_given_dose',\n",
       " 'drug_RALTITREXED_given_dose',\n",
       " 'drug_RAMUCIRUMAB_given_dose',\n",
       " 'drug_RAMUCIRUMAB SPECIAL ACCESS_given_dose',\n",
       " 'drug_TOPOTECAN - PAID_given_dose',\n",
       " 'drug_TOPOTECAN HCL_given_dose',\n",
       " 'drug_TRASTUZUMAB (HERCEPTIN)_given_dose',\n",
       " 'drug_TRASTUZUMAB (OGIVRI)_given_dose',\n",
       " 'drug_TRASTUZUMAB TRIAL SUPPLY_given_dose',\n",
       " 'drug_TREMELIMUMAB STUDY SUPPLY_given_dose',\n",
       " 'drug_VINORELBINE TARTRATE_given_dose',\n",
       " 'drug_ATEZOLIZUMAB COMPASSIONATE SUP_regimen_dose',\n",
       " 'drug_ATEZOLIZUMAB STUDY SUPPLY_regimen_dose',\n",
       " 'drug_BEVACIZUMAB (AVASTIN)_regimen_dose',\n",
       " 'drug_BEVACIZUMAB TRIAL SUPPLY_regimen_dose',\n",
       " 'drug_CAPECITABINE_regimen_dose',\n",
       " 'drug_CAPECITABINE STUDY SUPPLY_regimen_dose',\n",
       " 'drug_CARBOPLATIN_regimen_dose',\n",
       " 'drug_CARBOPLATIN STUDY SUPPLY_regimen_dose',\n",
       " 'drug_CETUXIMAB_regimen_dose',\n",
       " 'drug_CETUXIMAB TRIAL SUPPLY_regimen_dose',\n",
       " 'drug_CISPLATIN_regimen_dose',\n",
       " 'drug_CISPLATIN STUDY SUPPLY_regimen_dose',\n",
       " 'drug_CYCLOPHOSPHAMIDE_regimen_dose',\n",
       " 'drug_DOCETAXEL_regimen_dose',\n",
       " 'drug_DOCETAXEL - PAID_regimen_dose',\n",
       " 'drug_DOCETAXEL STUDY SUPPLY_regimen_dose',\n",
       " 'drug_DOCETAXEL TRIAL SUPPLY_regimen_dose',\n",
       " 'drug_DOXORUBICIN HCL_regimen_dose',\n",
       " 'drug_DOXORUBICIN STUDY SUPPLY_regimen_dose',\n",
       " 'drug_DURVALUMAB_regimen_dose',\n",
       " 'drug_DURVALUMAB COMPASSIONATE SUPPL_regimen_dose',\n",
       " 'drug_DURVALUMAB STUDY SUPPLY_regimen_dose',\n",
       " 'drug_EPIRUBICIN HCL_regimen_dose',\n",
       " 'drug_ERLOTINIB_regimen_dose',\n",
       " 'drug_ERLOTINIB STUDY SUPPLY_regimen_dose',\n",
       " 'drug_ETOPOSIDE_regimen_dose',\n",
       " 'drug_FLUOROURACIL_regimen_dose',\n",
       " 'drug_FLUOROURACIL STUDY SUPPLY_regimen_dose',\n",
       " 'drug_GEMCITABINE - PAID_regimen_dose',\n",
       " 'drug_GEMCITABINE HCL_regimen_dose',\n",
       " 'drug_GEMCITABINE TRIAL SUPPLY_regimen_dose',\n",
       " 'drug_IPILIMUMAB_regimen_dose',\n",
       " 'drug_IPILIMUMAB STUDY SUPPLY_regimen_dose',\n",
       " 'drug_IRINOTECAN HCL_regimen_dose',\n",
       " 'drug_LENVATINIB STUDY SUPPLY_regimen_dose',\n",
       " 'drug_LIPOSOMAL IRINOTECAN (ONIVYDE)_regimen_dose',\n",
       " 'drug_MITOMYCIN_regimen_dose',\n",
       " 'drug_NAB-PACL(ABRAXANE) STUDY SUPPL_regimen_dose',\n",
       " 'drug_NAB-PACLITAXEL(ABRAXANE)_regimen_dose',\n",
       " 'drug_NANOLIPOSOMAL IRINOTECAN SAP_regimen_dose',\n",
       " 'drug_NIVOLUMAB_regimen_dose',\n",
       " 'drug_NIVOLUMAB COMPASSIONATE SUPPLY_regimen_dose',\n",
       " 'drug_NIVOLUMAB STUDY SUPPLY_regimen_dose',\n",
       " 'drug_OLAPARIB STUDY SUPPLY_regimen_dose',\n",
       " 'drug_OXALIPLATIN_regimen_dose',\n",
       " 'drug_OXALIPLATIN TRIAL SUPPLY_regimen_dose',\n",
       " 'drug_PACLITAXEL_regimen_dose',\n",
       " 'drug_PACLITAXEL - PAID_regimen_dose',\n",
       " 'drug_PACLITAXEL STUDY SUPPLY_regimen_dose',\n",
       " 'drug_PANITUMUMAB_regimen_dose',\n",
       " 'drug_PEMBROLIZUMAB_regimen_dose',\n",
       " 'drug_PEMBROLIZUMAB COMPASSIONATE_regimen_dose',\n",
       " 'drug_PEMBROLIZUMAB STUDY SUPPLY_regimen_dose',\n",
       " 'drug_PEMETREXED DISODIUM_regimen_dose',\n",
       " 'drug_PEMETREXED STUDY SUPPLY_regimen_dose',\n",
       " 'drug_PERTUZUMAB STUDY SUPPLY_regimen_dose',\n",
       " 'drug_RALTITREXED_regimen_dose',\n",
       " 'drug_RAMUCIRUMAB_regimen_dose',\n",
       " 'drug_RAMUCIRUMAB SPECIAL ACCESS_regimen_dose',\n",
       " 'drug_TOPOTECAN - PAID_regimen_dose',\n",
       " 'drug_TOPOTECAN HCL_regimen_dose',\n",
       " 'drug_TRASTUZUMAB (HERCEPTIN)_regimen_dose',\n",
       " 'drug_TRASTUZUMAB (OGIVRI)_regimen_dose',\n",
       " 'drug_TRASTUZUMAB TRIAL SUPPLY_regimen_dose',\n",
       " 'drug_TREMELIMUMAB STUDY SUPPLY_regimen_dose',\n",
       " 'drug_VINORELBINE TARTRATE_regimen_dose']"
      ]
     },
     "execution_count": 9,
     "metadata": {},
     "output_type": "execute_result"
    }
   ],
   "source": [
    "opis.columns.tolist()"
   ]
  },
  {
   "attachments": {},
   "cell_type": "markdown",
   "id": "fa9c9c23",
   "metadata": {},
   "source": [
    "## Laboratory Tests \n",
    "Hematology and Biochemistry"
   ]
  },
  {
   "cell_type": "code",
   "execution_count": 103,
   "id": "2af3ed92",
   "metadata": {},
   "outputs": [
    {
     "name": "stdout",
     "output_type": "stream",
     "text": [
      "{'sodium': 'mmol/L', 'chloride': 'mmol/L', 'potassium': 'mmol/L', 'hemoglobin': 'g/L', 'mean_corpuscular_volume': 'fL', 'mean_corpuscular_hemoglobin_concentration': 'g/L', 'platelet': 'x10e9/L', 'mean_corpuscular_hemoglobin': 'pg', 'mean_platelet_volume': 'fL', 'creatinine': 'umol/L', 'lymphocyte': 'x10e9/L', 'monocyte': 'x10e9/L', 'hematocrit': 'L/L', 'red_blood_cell': 'x10e12/L', 'white_blood_cell': 'x10e9/L', 'neutrophil': 'x10e9/L', 'glucose': 'mmol/L', 'magnesium': 'mmol/L', 'aspartate_aminotransferase': 'U/L', 'total_bilirubin': 'umol/L', 'alkaline_phosphatase': 'U/L', 'alanine_aminotransferase': 'U/L', 'eosinophil': 'x10e9/L', 'phosphate': 'mmol/L', 'bicarbonate': 'mmol/L', 'albumin': 'g/L', 'red_cell_distribution_width': '%CV', 'basophil': 'x10e9/L', 'lactate_dehydrogenase': 'U/L', 'activated_partial_thromboplastin_time': 's', 'carbohydrate_antigen_19-9': 'kU/L', 'carcinoembryonic_antigen': 'ug/L'}\n"
     ]
    }
   ],
   "source": [
    "lab = get_lab_data(mrn_map, data_dir=f'{ROOT_DIR}/data/raw')\n",
    "lab.to_parquet(f'{ROOT_DIR}/data/interim/lab.parquet.gzip', compression='gzip', index=False)"
   ]
  },
  {
   "cell_type": "markdown",
   "metadata": {},
   "source": [
    "# Emergency Room Visits"
   ]
  },
  {
   "cell_type": "code",
   "execution_count": 123,
   "id": "6e3c0f0b",
   "metadata": {},
   "outputs": [
    {
     "name": "stderr",
     "output_type": "stream",
     "text": [
      "02:56:46 INFO:Removing 0 patients and 7 sessions which are duplicate entries\n"
     ]
    }
   ],
   "source": [
    "er_visit = get_emergency_room_data(data_dir=f'{ROOT_DIR}/data/raw')\n",
    "er_visit.to_parquet(f'{ROOT_DIR}/data/interim/emergency_room_visit.parquet.gzip', compression='gzip', index=False)"
   ]
  },
  {
   "attachments": {},
   "cell_type": "markdown",
   "id": "5863a840",
   "metadata": {},
   "source": [
    "# Combine the features"
   ]
  },
  {
   "cell_type": "code",
   "execution_count": 5,
   "id": "2beab9fd",
   "metadata": {},
   "outputs": [],
   "source": [
    "lab = pd.read_parquet(f'{ROOT_DIR}/data/interim/lab.parquet.gzip')\n",
    "trt = pd.read_parquet(f'{ROOT_DIR}/data/interim/treatment.parquet.gzip')\n",
    "dmg = pd.read_parquet(f'{ROOT_DIR}/data/interim/demographic.parquet.gzip')\n",
    "sym = pd.read_parquet(f'{ROOT_DIR}/data/interim/symptom.parquet.gzip')\n",
    "erv = pd.read_parquet(f'{ROOT_DIR}/data/interim/emergency_room_visit.parquet.gzip')"
   ]
  },
  {
   "attachments": {},
   "cell_type": "markdown",
   "id": "b825e53c",
   "metadata": {},
   "source": [
    "## Align on treatment sessions"
   ]
  },
  {
   "cell_type": "code",
   "execution_count": 6,
   "id": "e31bd62f",
   "metadata": {},
   "outputs": [
    {
     "name": "stderr",
     "output_type": "stream",
     "text": [
      "05:59:24 INFO:Removing 975 patients and 7379 sessions with missing birth date\n",
      "05:59:25 INFO:Removing 0 patients and 6 sessions under 18 years of age\n"
     ]
    },
    {
     "name": "stdout",
     "output_type": "stream",
     "text": [
      "Number of treatment sessions = 111212\n",
      "Number of patients = 9297\n",
      "Cohort from 2005-11-16 to 2021-02-01\n"
     ]
    }
   ],
   "source": [
    "df = combine_demographic_to_main_data(main=trt, demographic=dmg, main_date_col='treatment_date')\n",
    "quick_summary(df)"
   ]
  },
  {
   "cell_type": "code",
   "execution_count": 7,
   "id": "0293ae60",
   "metadata": {},
   "outputs": [
    {
     "name": "stderr",
     "output_type": "stream",
     "text": [
      "100%|██████████| 1604/1604 [00:04<00:00, 373.46it/s]\n",
      "100%|██████████| 1604/1604 [00:04<00:00, 338.31it/s]\n",
      "100%|██████████| 1604/1604 [00:04<00:00, 357.08it/s]\n",
      "100%|██████████| 1604/1604 [00:04<00:00, 340.28it/s]\n",
      "100%|██████████| 1831/1831 [00:06<00:00, 268.11it/s]\n",
      "100%|██████████| 1830/1830 [00:06<00:00, 277.45it/s]\n",
      "100%|██████████| 1830/1830 [00:06<00:00, 273.44it/s]\n",
      "100%|██████████| 1830/1830 [00:06<00:00, 263.85it/s]\n"
     ]
    }
   ],
   "source": [
    "#TODO: Try polars/dask for performance comparison\n",
    "df = combine_feat_to_main_data(\n",
    "    main=df, feat=sym, main_date_col='treatment_date', feat_date_col='survey_date', time_window=(-cfg['symp_lookback_window'],0)\n",
    ")\n",
    "df = combine_feat_to_main_data(\n",
    "    main=df, feat=lab, main_date_col='treatment_date', feat_date_col='obs_date', time_window=(-cfg['lab_lookback_window'],0)\n",
    ")"
   ]
  },
  {
   "cell_type": "code",
   "execution_count": 8,
   "metadata": {},
   "outputs": [
    {
     "name": "stderr",
     "output_type": "stream",
     "text": [
      "05:59:40 INFO:NumExpr defaulting to 8 threads.\n",
      "05:59:40 INFO:NumExpr defaulting to 8 threads.\n",
      "05:59:40 INFO:NumExpr defaulting to 8 threads.\n",
      "  0%|          | 0/1100 [00:00<?, ?it/s]05:59:40 INFO:NumExpr defaulting to 8 threads.\n",
      "100%|██████████| 1100/1100 [00:04<00:00, 230.08it/s]\n",
      "100%|██████████| 1100/1100 [00:04<00:00, 229.07it/s]\n",
      "100%|██████████| 1099/1099 [00:04<00:00, 228.83it/s]\n",
      "100%|██████████| 1099/1099 [00:04<00:00, 230.73it/s]\n"
     ]
    }
   ],
   "source": [
    "df = combine_event_to_main_data(\n",
    "    main=df, event=erv, main_date_col='treatment_date', event_date_col='event_date', event_name='ED_visit',\n",
    "    lookback_window=cfg['ed_visit_lookback_window']\n",
    ")"
   ]
  },
  {
   "cell_type": "code",
   "execution_count": 9,
   "id": "1b853995",
   "metadata": {},
   "outputs": [
    {
     "name": "stderr",
     "output_type": "stream",
     "text": [
      "/Users/kevinhe/Documents/UHN/Projects/make-clinical-dataset/src/feat_eng.py:80: FutureWarning: Downcasting behavior in `replace` is deprecated and will be removed in a future version. To retain the old behavior, explicitly call `result.infer_objects(copy=False)`. To opt-in to the future behavior, set `pd.set_option('future.no_silent_downcasting', True)`\n",
      "  return (140 - df['age']) * df['weight'] * 1.23 * df['female'].replace({True: 0.85, False: 1}) / df['creatinine']\n"
     ]
    }
   ],
   "source": [
    "df = combine_perc_dose_to_main_data(main=df, included_drugs=included_drugs)\n",
    "df = add_engineered_features(df, date_col='treatment_date')"
   ]
  },
  {
   "cell_type": "code",
   "execution_count": 10,
   "id": "03f01791",
   "metadata": {},
   "outputs": [],
   "source": [
    "df.to_parquet(f'{ROOT_DIR}/data/processed/treatment_centered_clinical_dataset.parquet.gzip', compression='gzip', index=False)"
   ]
  },
  {
   "attachments": {},
   "cell_type": "markdown",
   "id": "cfd883cb",
   "metadata": {},
   "source": [
    "## Align on every Mondays"
   ]
  },
  {
   "cell_type": "code",
   "execution_count": 31,
   "id": "5ea68280",
   "metadata": {},
   "outputs": [],
   "source": [
    "from itertools import product\n",
    "mrns = trt['mrn'].unique()\n",
    "dates = pd.date_range(start='2018-01-01', end='2018-12-31', freq='W-MON')\n",
    "df = pd.DataFrame(product(mrns, dates), columns=['mrn', 'assessment_date'])"
   ]
  },
  {
   "cell_type": "code",
   "execution_count": 32,
   "id": "01c1352d",
   "metadata": {},
   "outputs": [
    {
     "name": "stderr",
     "output_type": "stream",
     "text": [
      "04:43:59 INFO:Removing 975 patients and 51675 sessions with missing birth date\n",
      "04:44:00 INFO:Removing 0 patients and 0 sessions under 18 years of age\n"
     ]
    }
   ],
   "source": [
    "df = combine_treatment_to_main_data(df, trt, main_date_col='assessment_date', time_window=(-7,0))\n",
    "df = combine_demographic_to_main_data(main=df, demographic=dmg, main_date_col='assessment_date')\n",
    "df = combine_feat_to_main_data(\n",
    "    main=df, feat=sym, main_date_col='assessment_date', feat_date_col='survey_date', time_window=(-cfg['symp_lookback_window'],0)\n",
    ")\n",
    "df = combine_feat_to_main_data(\n",
    "    main=df, feat=lab, main_date_col='assessment_date', feat_date_col='obs_date', time_window=(-cfg['lab_lookback_window'],0)\n",
    ")\n",
    "df = combine_event_to_main_data(\n",
    "    main=df, event=erv, main_date_col='treatment_date', event_date_col='event_date', event_name='ED_visit', \n",
    "    lookback_window=cfg['ed_visit_lookback_window']\n",
    ")\n",
    "df = combine_perc_dose_to_main_data(main=df, included_drugs=included_drugs)\n",
    "df = add_engineered_features(df, date_col='assessment_date')\n",
    "# df.to_parquet(f'{ROOT_DIR}/data/processed/weekly_monday_clinical_dataset.parquet.gzip', compression='gzip', index=False)"
   ]
  },
  {
   "cell_type": "code",
   "execution_count": 33,
   "id": "60d1dcf2",
   "metadata": {},
   "outputs": [],
   "source": [
    "#TODO: analyze how missingness differs for 5 day, 7 day, 10 day, 14 day baseline lab value\n",
    "#TODO: set up DVC (data version control)"
   ]
  }
 ],
 "metadata": {
  "kernelspec": {
   "display_name": "Python 3 (ipykernel)",
   "language": "python",
   "name": "python3"
  },
  "language_info": {
   "codemirror_mode": {
    "name": "ipython",
    "version": 3
   },
   "file_extension": ".py",
   "mimetype": "text/x-python",
   "name": "python",
   "nbconvert_exporter": "python",
   "pygments_lexer": "ipython3",
   "version": "3.11.8"
  }
 },
 "nbformat": 4,
 "nbformat_minor": 5
}
