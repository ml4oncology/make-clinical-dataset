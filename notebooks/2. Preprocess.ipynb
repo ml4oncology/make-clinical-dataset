{
 "cells": [
  {
   "cell_type": "code",
   "execution_count": 6,
   "id": "4751fbd1",
   "metadata": {},
   "outputs": [],
   "source": [
    "%%capture\n",
    "%cd ../\n",
    "%load_ext autoreload\n",
    "%autoreload 2"
   ]
  },
  {
   "cell_type": "code",
   "execution_count": 7,
   "id": "15d5f1bc-4955-4214-86d7-089d5f07148a",
   "metadata": {
    "tags": []
   },
   "outputs": [],
   "source": [
    "import pandas as pd\n",
    "import yaml\n",
    "\n",
    "from make_clinical_dataset import ROOT_DIR\n",
    "from make_clinical_dataset.combine import (\n",
    "    add_engineered_features,\n",
    "    combine_demographic_to_main_data, \n",
    "    combine_event_to_main_data,\n",
    "    combine_feat_to_main_data, \n",
    "    combine_perc_dose_to_main_data,\n",
    "    combine_treatment_to_main_data\n",
    ")\n",
    "from make_clinical_dataset.preprocess.cancer_registry import get_demographic_data\n",
    "from make_clinical_dataset.preprocess.clinic import get_clinical_notes_data, get_clinic_visits_during_treatment, backfill_treatment_info\n",
    "from make_clinical_dataset.preprocess.dart import get_symptoms_data\n",
    "from make_clinical_dataset.preprocess.emergency import get_emergency_room_data\n",
    "from make_clinical_dataset.preprocess.lab import get_lab_data\n",
    "from make_clinical_dataset.preprocess.opis import get_treatment_data\n",
    "from make_clinical_dataset.preprocess.radiology import get_radiology_data\n",
    "from make_clinical_dataset.preprocess.recist import get_recist_data\n",
    "from make_clinical_dataset.util import load_included_drugs, load_included_regimens\n",
    "\n",
    "pd.set_option('display.max_columns', 100)\n",
    "pd.set_option('display.max_rows', 100)"
   ]
  },
  {
   "cell_type": "code",
   "execution_count": 8,
   "id": "7929db5b",
   "metadata": {},
   "outputs": [],
   "source": [
    "def quick_summary(df):\n",
    "    print(f'Number of treatment sessions = {len(df)}')\n",
    "    print(f'Number of patients = {df[\"mrn\"].nunique()}')\n",
    "    print(f'Cohort from {df[\"treatment_date\"].min().date()} to {df[\"treatment_date\"].max().date()}')\n",
    "\n",
    "def check_overlap(main, feat, main_name, feat_name):\n",
    "    mask = ~main['mrn'].isin(feat['mrn'])\n",
    "    n_sessions = sum(mask)\n",
    "    perc_sessions = (mask).mean()*100\n",
    "    n_patients = main.loc[mask, 'mrn'].nunique()\n",
    "    perc_patients = (n_patients / main['mrn'].nunique()) * 100\n",
    "    print(f'{perc_sessions:.1f}% (N={n_sessions}) of sessions and {perc_patients:.1f}% (N={n_patients}) of patients '\n",
    "          f'in the {main_name} do not have overlapping mrns with the {feat_name}')"
   ]
  },
  {
   "cell_type": "code",
   "execution_count": 9,
   "id": "d351dfde",
   "metadata": {},
   "outputs": [],
   "source": [
    "# load config\n",
    "with open(f'{ROOT_DIR}/config.yaml') as file:\n",
    "    cfg = yaml.safe_load(file)\n",
    "\n",
    "# load external data\n",
    "included_drugs = load_included_drugs()\n",
    "included_regimens = load_included_regimens()\n",
    "\n",
    "mrn_map = pd.read_csv(f'{ROOT_DIR}/data/external/MRN_map.csv')\n",
    "mrn_map = mrn_map.set_index('RESEARCH_ID')['PATIENT_MRN'].to_dict()"
   ]
  },
  {
   "attachments": {},
   "cell_type": "markdown",
   "id": "206a28d7",
   "metadata": {},
   "source": [
    "# Build the features"
   ]
  },
  {
   "attachments": {},
   "cell_type": "markdown",
   "id": "53908125-3eb6-4a5c-a45e-2f4335db2f57",
   "metadata": {},
   "source": [
    "## DART"
   ]
  },
  {
   "cell_type": "code",
   "execution_count": 5,
   "id": "aa5a10ba-43ed-463e-915e-21a9bc37675b",
   "metadata": {
    "tags": []
   },
   "outputs": [
    {
     "name": "stderr",
     "output_type": "stream",
     "text": [
      "04:29:57 INFO:Removing 1118 patients and 8940 sessions in which consent to research was declined\n",
      "04:29:57 INFO:Removing 2 patients and 12 sessions in which sex is Unknown\n",
      "04:29:57 INFO:Removing 174 patients and 2468 sessions without any symptom scores\n"
     ]
    }
   ],
   "source": [
    "dart = get_symptoms_data(data_dir=f'{ROOT_DIR}/data/raw')\n",
    "dart.to_parquet(f'{ROOT_DIR}/data/interim/symptom.parquet.gzip', compression='gzip', index=False)"
   ]
  },
  {
   "attachments": {},
   "cell_type": "markdown",
   "id": "3c5b9121-11c4-4800-b743-c306df88a3fb",
   "metadata": {},
   "source": [
    "## Cancer Registry"
   ]
  },
  {
   "cell_type": "code",
   "execution_count": 6,
   "id": "c5e05ae2-10e6-4f9a-aac6-b361b87107f7",
   "metadata": {
    "tags": []
   },
   "outputs": [
    {
     "name": "stderr",
     "output_type": "stream",
     "text": [
      "04:30:30 INFO:Removing 1 patients and 1 sessions with no MRN\n",
      "04:30:30 INFO:Removing 2 patients and 2 sessions in which sex is other than Male/Female\n"
     ]
    }
   ],
   "source": [
    "canc_reg = get_demographic_data(data_dir=f'{ROOT_DIR}/data/raw')\n",
    "canc_reg.to_parquet(f'{ROOT_DIR}/data/interim/demographic.parquet.gzip', compression='gzip', index=False)"
   ]
  },
  {
   "attachments": {},
   "cell_type": "markdown",
   "id": "f83b0fdb-1b36-4a44-9218-2d5f0e7f306c",
   "metadata": {},
   "source": [
    "## OPIS"
   ]
  },
  {
   "cell_type": "code",
   "execution_count": 5,
   "id": "be1cab16-877f-4c0c-aa6a-167a94da9d63",
   "metadata": {
    "tags": []
   },
   "outputs": [
    {
     "name": "stderr",
     "output_type": "stream",
     "text": [
      "05:00:31 INFO:Removing 1 patients and 998 sessions with missing regimen info\n",
      "05:00:31 INFO:Removing 708 patients and 74259 sessions not part of selected regimens\n",
      "05:00:31 INFO:Removing 102 patients and 111404 sessions that received only trial, supportive, and/or non-aerodigestive drugs\n",
      "05:00:31 INFO:Removing 0 patients and 137 sessions where dosage is not provided\n",
      "05:00:31 INFO:Removing 0 patients and 1 sessions that are duplicate rows except for first_treatment_date\n",
      "05:00:31 INFO:Removing 0 patients and 1 sessions that are duplicate rows except for cycle_number\n"
     ]
    },
    {
     "name": "stdout",
     "output_type": "stream",
     "text": [
      "Number of treatment sessions = 118597\n",
      "Number of patients = 10272\n",
      "Cohort from 2005-11-16 to 2021-02-01\n",
      "Number of unique regimens: 134\n"
     ]
    }
   ],
   "source": [
    "opis = get_treatment_data(included_drugs, included_regimens, data_dir=f'{ROOT_DIR}/data/raw')\n",
    "opis.to_parquet(f'{ROOT_DIR}/data/interim/treatment.parquet.gzip', compression='gzip', index=False)\n",
    "quick_summary(opis)\n",
    "print(f'Number of unique regimens: {opis[\"regimen\"].nunique()}')"
   ]
  },
  {
   "attachments": {},
   "cell_type": "markdown",
   "id": "fa9c9c23",
   "metadata": {},
   "source": [
    "## Laboratory Tests \n",
    "Hematology and Biochemistry"
   ]
  },
  {
   "cell_type": "code",
   "execution_count": 103,
   "id": "2af3ed92",
   "metadata": {},
   "outputs": [
    {
     "name": "stdout",
     "output_type": "stream",
     "text": [
      "{'sodium': 'mmol/L', 'chloride': 'mmol/L', 'potassium': 'mmol/L', 'hemoglobin': 'g/L', 'mean_corpuscular_volume': 'fL', 'mean_corpuscular_hemoglobin_concentration': 'g/L', 'platelet': 'x10e9/L', 'mean_corpuscular_hemoglobin': 'pg', 'mean_platelet_volume': 'fL', 'creatinine': 'umol/L', 'lymphocyte': 'x10e9/L', 'monocyte': 'x10e9/L', 'hematocrit': 'L/L', 'red_blood_cell': 'x10e12/L', 'white_blood_cell': 'x10e9/L', 'neutrophil': 'x10e9/L', 'glucose': 'mmol/L', 'magnesium': 'mmol/L', 'aspartate_aminotransferase': 'U/L', 'total_bilirubin': 'umol/L', 'alkaline_phosphatase': 'U/L', 'alanine_aminotransferase': 'U/L', 'eosinophil': 'x10e9/L', 'phosphate': 'mmol/L', 'bicarbonate': 'mmol/L', 'albumin': 'g/L', 'red_cell_distribution_width': '%CV', 'basophil': 'x10e9/L', 'lactate_dehydrogenase': 'U/L', 'activated_partial_thromboplastin_time': 's', 'carbohydrate_antigen_19-9': 'kU/L', 'carcinoembryonic_antigen': 'ug/L'}\n"
     ]
    }
   ],
   "source": [
    "lab = get_lab_data(mrn_map, data_dir=f'{ROOT_DIR}/data/raw')\n",
    "lab.to_parquet(f'{ROOT_DIR}/data/interim/lab.parquet.gzip', compression='gzip', index=False)"
   ]
  },
  {
   "cell_type": "markdown",
   "id": "e0bf9607",
   "metadata": {},
   "source": [
    "## Emergency Room Visits"
   ]
  },
  {
   "cell_type": "code",
   "execution_count": 123,
   "id": "6e3c0f0b",
   "metadata": {},
   "outputs": [
    {
     "name": "stderr",
     "output_type": "stream",
     "text": [
      "02:56:46 INFO:Removing 0 patients and 7 sessions which are duplicate entries\n"
     ]
    }
   ],
   "source": [
    "er_visit = get_emergency_room_data(data_dir=f'{ROOT_DIR}/data/raw')\n",
    "er_visit.to_parquet(f'{ROOT_DIR}/data/interim/emergency_room_visit.parquet.gzip', compression='gzip', index=False)"
   ]
  },
  {
   "cell_type": "markdown",
   "id": "7704d29e",
   "metadata": {},
   "source": [
    "## Radiology Reports"
   ]
  },
  {
   "cell_type": "code",
   "execution_count": 135,
   "id": "a3e324e7",
   "metadata": {},
   "outputs": [],
   "source": [
    "reports = get_radiology_data(mrn_map, data_dir=f'{ROOT_DIR}/data/raw')\n",
    "reports.to_parquet(f'{ROOT_DIR}/data/interim/reports.parquet.gzip', compression='gzip', index=False)"
   ]
  },
  {
   "cell_type": "markdown",
   "id": "3646f97c",
   "metadata": {},
   "source": [
    "## Clinical Notes"
   ]
  },
  {
   "cell_type": "code",
   "execution_count": 10,
   "id": "6db90127",
   "metadata": {},
   "outputs": [
    {
     "name": "stdout",
     "output_type": "stream",
     "text": [
      "Removing 105 visits that \"occured before\" 2006-01-05 00:00:00\n"
     ]
    }
   ],
   "source": [
    "clinical_notes = get_clinical_notes_data(data_dir=f'{ROOT_DIR}/data/raw')\n",
    "clinical_notes.to_parquet(f'{ROOT_DIR}/data/interim/clinical_notes.parquet.gzip', compression='gzip', index=False)"
   ]
  },
  {
   "cell_type": "markdown",
   "id": "9f73d7c8",
   "metadata": {},
   "source": [
    "## RECIST - COMPASS"
   ]
  },
  {
   "cell_type": "code",
   "execution_count": 7,
   "id": "ebc2a082",
   "metadata": {},
   "outputs": [],
   "source": [
    "recist = get_recist_data(data_dir=f'{ROOT_DIR}/data/external')\n",
    "recist.to_parquet(f'{ROOT_DIR}/data/interim/recist.parquet.gzip', compression='gzip', index=False)"
   ]
  },
  {
   "attachments": {},
   "cell_type": "markdown",
   "id": "5863a840",
   "metadata": {},
   "source": [
    "# Combine the features"
   ]
  },
  {
   "cell_type": "code",
   "execution_count": 10,
   "id": "2beab9fd",
   "metadata": {},
   "outputs": [],
   "source": [
    "lab = pd.read_parquet(f'{ROOT_DIR}/data/interim/lab.parquet.gzip')\n",
    "trt = pd.read_parquet(f'{ROOT_DIR}/data/interim/treatment.parquet.gzip')\n",
    "dmg = pd.read_parquet(f'{ROOT_DIR}/data/interim/demographic.parquet.gzip')\n",
    "sym = pd.read_parquet(f'{ROOT_DIR}/data/interim/symptom.parquet.gzip')\n",
    "erv = pd.read_parquet(f'{ROOT_DIR}/data/interim/emergency_room_visit.parquet.gzip')"
   ]
  },
  {
   "cell_type": "code",
   "execution_count": 49,
   "id": "ffa16337",
   "metadata": {},
   "outputs": [
    {
     "name": "stdout",
     "output_type": "stream",
     "text": [
      "26.6% (N=31561) of sessions and 25.3% (N=2598) of patients in the treatment database do not have overlapping mrns with the laboratory database\n",
      "25.4% (N=30100) of sessions and 30.3% (N=3117) of patients in the treatment database do not have overlapping mrns with the symptoms database\n"
     ]
    }
   ],
   "source": [
    "check_overlap(trt, lab, 'treatment database', 'laboratory database')\n",
    "check_overlap(trt, sym, 'treatment database', 'symptoms database')"
   ]
  },
  {
   "attachments": {},
   "cell_type": "markdown",
   "id": "b825e53c",
   "metadata": {},
   "source": [
    "## Align on treatment sessions"
   ]
  },
  {
   "cell_type": "code",
   "execution_count": 6,
   "id": "e31bd62f",
   "metadata": {},
   "outputs": [
    {
     "name": "stderr",
     "output_type": "stream",
     "text": [
      "05:59:24 INFO:Removing 975 patients and 7379 sessions with missing birth date\n",
      "05:59:25 INFO:Removing 0 patients and 6 sessions under 18 years of age\n"
     ]
    },
    {
     "name": "stdout",
     "output_type": "stream",
     "text": [
      "Number of treatment sessions = 111212\n",
      "Number of patients = 9297\n",
      "Cohort from 2005-11-16 to 2021-02-01\n"
     ]
    }
   ],
   "source": [
    "df = combine_demographic_to_main_data(main=trt, demographic=dmg, main_date_col='treatment_date')\n",
    "quick_summary(df)"
   ]
  },
  {
   "cell_type": "code",
   "execution_count": null,
   "id": "4df6b56b",
   "metadata": {},
   "outputs": [],
   "source": [
    "#TODO: Try polars/dask for performance comparison\n",
    "df = combine_feat_to_main_data(\n",
    "    main=df, feat=sym, main_date_col='treatment_date', feat_date_col='survey_date', time_window=cfg['symp_lookback_window']\n",
    ")\n",
    "df = combine_feat_to_main_data(\n",
    "    main=df, feat=lab, main_date_col='treatment_date', feat_date_col='obs_date', time_window=cfg['lab_lookback_window']\n",
    ")"
   ]
  },
  {
   "cell_type": "code",
   "execution_count": null,
   "id": "d96e8e07",
   "metadata": {},
   "outputs": [],
   "source": [
    "df = combine_event_to_main_data(\n",
    "    main=df, event=erv, main_date_col='treatment_date', event_date_col='event_date', event_name='ED_visit',\n",
    "    lookback_window=cfg['ed_visit_lookback_window']\n",
    ")"
   ]
  },
  {
   "cell_type": "code",
   "execution_count": null,
   "id": "ec354545",
   "metadata": {},
   "outputs": [],
   "source": [
    "df = combine_perc_dose_to_main_data(main=df, included_drugs=included_drugs)\n",
    "df = add_engineered_features(df, date_col='treatment_date')"
   ]
  },
  {
   "cell_type": "code",
   "execution_count": 17,
   "id": "03f01791",
   "metadata": {},
   "outputs": [],
   "source": [
    "df.to_parquet(f'{ROOT_DIR}/data/processed/treatment_centered_clinical_dataset.parquet.gzip', compression='gzip', index=False)"
   ]
  },
  {
   "cell_type": "markdown",
   "id": "48d78e4f",
   "metadata": {},
   "source": [
    "## Align on clinic visits"
   ]
  },
  {
   "cell_type": "code",
   "execution_count": 7,
   "id": "baf27a4a",
   "metadata": {},
   "outputs": [
    {
     "name": "stdout",
     "output_type": "stream",
     "text": [
      "0.4% (N=527) of sessions and 0.9% (N=90) of patients in the treatment database do not have overlapping mrns with the clinic database\n"
     ]
    }
   ],
   "source": [
    "clinic = pd.read_parquet(f'{ROOT_DIR}/data/interim/clinical_notes.parquet.gzip')\n",
    "check_overlap(trt, clinic, 'treatment database', 'clinic database')\n",
    "clinic = get_clinic_visits_during_treatment(clinic, trt)"
   ]
  },
  {
   "cell_type": "code",
   "execution_count": null,
   "id": "c072a350",
   "metadata": {},
   "outputs": [],
   "source": [
    "df = combine_treatment_to_main_data(main=clinic, treatment=trt, main_date_col='clinic_date', time_window=cfg['trt_lookback_window'])\n",
    "df = backfill_treatment_info(df)\n",
    "quick_summary(df)\n",
    "df = combine_demographic_to_main_data(main=df, demographic=dmg, main_date_col='clinic_date')\n",
    "df = combine_feat_to_main_data(main=df, feat=sym, main_date_col='clinic_date', feat_date_col='survey_date', time_window=cfg['symp_lookback_window'])\n",
    "df = combine_feat_to_main_data(main=df, feat=lab, main_date_col='clinic_date', feat_date_col='obs_date', time_window=cfg['lab_lookback_window'])\n",
    "df = combine_event_to_main_data(\n",
    "    main=df, event=erv, main_date_col='clinic_date', event_date_col='event_date', event_name='ED_visit', \n",
    "    lookback_window=cfg['ed_visit_lookback_window']\n",
    ")\n",
    "df = combine_perc_dose_to_main_data(main=df, included_drugs=included_drugs)\n",
    "df = add_engineered_features(df, date_col='clinic_date')\n",
    "df.to_parquet(f'{ROOT_DIR}/data/processed/clinic_centered_feature_dataset.parquet.gzip', compression='gzip', index=False)"
   ]
  },
  {
   "attachments": {},
   "cell_type": "markdown",
   "id": "cfd883cb",
   "metadata": {},
   "source": [
    "## Align on every Mondays"
   ]
  },
  {
   "cell_type": "code",
   "execution_count": 31,
   "id": "5ea68280",
   "metadata": {},
   "outputs": [],
   "source": [
    "from itertools import product\n",
    "mrns = trt['mrn'].unique()\n",
    "dates = pd.date_range(start='2018-01-01', end='2018-12-31', freq='W-MON')\n",
    "df = pd.DataFrame(product(mrns, dates), columns=['mrn', 'assessment_date'])"
   ]
  },
  {
   "cell_type": "code",
   "execution_count": 32,
   "id": "01c1352d",
   "metadata": {},
   "outputs": [
    {
     "name": "stderr",
     "output_type": "stream",
     "text": [
      "04:43:59 INFO:Removing 975 patients and 51675 sessions with missing birth date\n",
      "04:44:00 INFO:Removing 0 patients and 0 sessions under 18 years of age\n"
     ]
    }
   ],
   "source": [
    "df = combine_treatment_to_main_data(df, trt, main_date_col='assessment_date', time_window=cfg['trt_lookback_window'])\n",
    "df = combine_demographic_to_main_data(main=df, demographic=dmg, main_date_col='assessment_date')\n",
    "df = combine_feat_to_main_data(\n",
    "    main=df, feat=sym, main_date_col='assessment_date', feat_date_col='survey_date', time_window=cfg['symp_lookback_window']\n",
    ")\n",
    "df = combine_feat_to_main_data(\n",
    "    main=df, feat=lab, main_date_col='assessment_date', feat_date_col='obs_date', time_window=cfg['lab_lookback_window']\n",
    ")\n",
    "df = combine_event_to_main_data(\n",
    "    main=df, event=erv, main_date_col='treatment_date', event_date_col='event_date', event_name='ED_visit', \n",
    "    lookback_window=cfg['ed_visit_lookback_window']\n",
    ")\n",
    "df = combine_perc_dose_to_main_data(main=df, included_drugs=included_drugs)\n",
    "df = add_engineered_features(df, date_col='assessment_date')\n",
    "# df.to_parquet(f'{ROOT_DIR}/data/processed/weekly_monday_clinical_dataset.parquet.gzip', compression='gzip', index=False)"
   ]
  },
  {
   "cell_type": "code",
   "execution_count": 33,
   "id": "60d1dcf2",
   "metadata": {},
   "outputs": [],
   "source": [
    "#TODO: analyze how missingness differs for 5 day, 7 day, 10 day, 14 day baseline lab value\n",
    "#TODO: set up DVC (data version control)"
   ]
  }
 ],
 "metadata": {
  "kernelspec": {
   "display_name": "Python 3 (ipykernel)",
   "language": "python",
   "name": "python3"
  },
  "language_info": {
   "codemirror_mode": {
    "name": "ipython",
    "version": 3
   },
   "file_extension": ".py",
   "mimetype": "text/x-python",
   "name": "python",
   "nbconvert_exporter": "python",
   "pygments_lexer": "ipython3",
   "version": "3.11.8"
  }
 },
 "nbformat": 4,
 "nbformat_minor": 5
}
